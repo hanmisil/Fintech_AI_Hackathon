{
  "nbformat": 4,
  "nbformat_minor": 0,
  "metadata": {
    "colab": {
      "provenance": [],
      "mount_file_id": "11QVnJhoPHWQPVHtx8DIWTF9UJANt6BK2",
      "authorship_tag": "ABX9TyMVBSDTpXdxq/HfEsxk2Va1",
      "include_colab_link": true
    },
    "kernelspec": {
      "name": "python3",
      "display_name": "Python 3"
    },
    "accelerator": "GPU"
  },
  "cells": [
    {
      "cell_type": "markdown",
      "metadata": {
        "id": "view-in-github",
        "colab_type": "text"
      },
      "source": [
        "<a href=\"https://colab.research.google.com/github/hanmisil/Fintech_AI_Hackathon/blob/master/AI-Study/RNN-%EC%9E%91%EA%B3%A1.ipynb\" target=\"_parent\"><img src=\"https://colab.research.google.com/assets/colab-badge.svg\" alt=\"Open In Colab\"/></a>"
      ]
    },
    {
      "cell_type": "markdown",
      "metadata": {
        "id": "OZc9GApG0wMa"
      },
      "source": [
        "<h1>RNN을 이용한 작곡하기</h1>"
      ]
    },
    {
      "cell_type": "markdown",
      "metadata": {
        "id": "cNBoJJLAM2yx"
      },
      "source": [
        "구글 드라이브 마운트하기"
      ]
    },
    {
      "cell_type": "code",
      "metadata": {
        "id": "WB_oOJFzD1I2",
        "colab": {
          "base_uri": "https://localhost:8080/",
          "height": 125
        },
        "outputId": "b8350777-5db5-4aaf-88d2-6d2d9c481945"
      },
      "source": [
        "from os import path\n",
        "from google.colab import drive\n",
        "\n",
        "notebooks_dir_name = 'notebooks'\n",
        "drive.mount('/content/gdrive')\n",
        "notebooks_base_dir = path.join('./gdrive/My Drive/', notebooks_dir_name)"
      ],
      "execution_count": null,
      "outputs": [
        {
          "output_type": "stream",
          "text": [
            "Go to this URL in a browser: https://accounts.google.com/o/oauth2/auth?client_id=947318989803-6bn6qk8qdgf4n4g3pfee6491hc0brc4i.apps.googleusercontent.com&redirect_uri=urn%3aietf%3awg%3aoauth%3a2.0%3aoob&response_type=code&scope=email%20https%3a%2f%2fwww.googleapis.com%2fauth%2fdocs.test%20https%3a%2f%2fwww.googleapis.com%2fauth%2fdrive%20https%3a%2f%2fwww.googleapis.com%2fauth%2fdrive.photos.readonly%20https%3a%2f%2fwww.googleapis.com%2fauth%2fpeopleapi.readonly\n",
            "\n",
            "Enter your authorization code:\n",
            "··········\n",
            "Mounted at /content/gdrive\n"
          ],
          "name": "stdout"
        }
      ]
    },
    {
      "cell_type": "code",
      "metadata": {
        "id": "Z7e0hPahD6nW",
        "colab": {
          "base_uri": "https://localhost:8080/",
          "height": 34
        },
        "outputId": "1b503a8b-1419-40f4-8bfc-c72bcfe1246c"
      },
      "source": [
        "cd /content/gdrive/My Drive/Colab Notebooks/GDL_code-master"
      ],
      "execution_count": null,
      "outputs": [
        {
          "output_type": "stream",
          "text": [
            "/content/gdrive/My Drive/Colab Notebooks/GDL_code-master\n"
          ],
          "name": "stdout"
        }
      ]
    },
    {
      "cell_type": "markdown",
      "metadata": {
        "id": "4idVW-RJM8iW"
      },
      "source": [
        "music21 사용을 위한 기본 셋팅 <br>\n",
        "https://colab.research.google.com/gist/mscuthbert/431dee45c01598a0c11bc27823bd1c5b/music21_setup.ipynb"
      ]
    },
    {
      "cell_type": "code",
      "metadata": {
        "id": "QcLFZLmwLZFc",
        "colab": {
          "base_uri": "https://localhost:8080/",
          "height": 1000
        },
        "outputId": "3856bee9-78e8-42fe-8c18-2b0d5675332e"
      },
      "source": [
        "!pip install --upgrade music21\n",
        "!add-apt-repository ppa:mscore-ubuntu/mscore-stable -y\n",
        "!apt-get update\n",
        "!apt-get install musescore\n",
        "!apt-get install xvfb\n",
        "!sh -e /etc/init.d/x11-common start"
      ],
      "execution_count": null,
      "outputs": [
        {
          "output_type": "stream",
          "text": [
            "Collecting music21\n",
            "\u001b[?25l  Downloading https://files.pythonhosted.org/packages/96/87/19a01af679090c880ed0036f0c221dd7bc3a97f4bddf74e24bc22d1e66cf/music21-5.7.2.tar.gz (18.5MB)\n",
            "\u001b[K     |████████████████████████████████| 18.5MB 1.3MB/s \n",
            "\u001b[?25hBuilding wheels for collected packages: music21\n",
            "  Building wheel for music21 (setup.py) ... \u001b[?25l\u001b[?25hdone\n",
            "  Created wheel for music21: filename=music21-5.7.2-cp36-none-any.whl size=22024602 sha256=95b4a6bec1d48c953563e60168915f412fe1de4e4c3f60be60744636546c9f97\n",
            "  Stored in directory: /root/.cache/pip/wheels/6e/d0/05/1ef3daa9ae295073d807e468fcd820641965086424f1c633e3\n",
            "Successfully built music21\n",
            "Installing collected packages: music21\n",
            "  Found existing installation: music21 5.5.0\n",
            "    Uninstalling music21-5.5.0:\n",
            "      Successfully uninstalled music21-5.5.0\n",
            "Successfully installed music21-5.7.2\n",
            "Get:1 https://cloud.r-project.org/bin/linux/ubuntu bionic-cran35/ InRelease [3,626 B]\n",
            "Ign:2 https://developer.download.nvidia.com/compute/cuda/repos/ubuntu1804/x86_64  InRelease\n",
            "Get:3 http://security.ubuntu.com/ubuntu bionic-security InRelease [88.7 kB]\n",
            "Ign:4 https://developer.download.nvidia.com/compute/machine-learning/repos/ubuntu1804/x86_64  InRelease\n",
            "Hit:5 https://developer.download.nvidia.com/compute/cuda/repos/ubuntu1804/x86_64  Release\n",
            "Hit:6 https://developer.download.nvidia.com/compute/machine-learning/repos/ubuntu1804/x86_64  Release\n",
            "Get:7 http://ppa.launchpad.net/graphics-drivers/ppa/ubuntu bionic InRelease [21.3 kB]\n",
            "Hit:9 http://archive.ubuntu.com/ubuntu bionic InRelease\n",
            "Get:11 http://archive.ubuntu.com/ubuntu bionic-updates InRelease [88.7 kB]\n",
            "Get:12 http://ppa.launchpad.net/marutter/c2d4u3.5/ubuntu bionic InRelease [15.4 kB]\n",
            "Get:13 http://security.ubuntu.com/ubuntu bionic-security/multiverse amd64 Packages [9,279 B]\n",
            "Get:14 http://ppa.launchpad.net/mscore-ubuntu/mscore-stable/ubuntu bionic InRelease [15.4 kB]\n",
            "Get:15 http://archive.ubuntu.com/ubuntu bionic-backports InRelease [74.6 kB]\n",
            "Get:16 http://security.ubuntu.com/ubuntu bionic-security/restricted amd64 Packages [89.9 kB]\n",
            "Get:17 http://security.ubuntu.com/ubuntu bionic-security/main amd64 Packages [1,005 kB]\n",
            "Get:18 http://ppa.launchpad.net/graphics-drivers/ppa/ubuntu bionic/main amd64 Packages [43.3 kB]\n",
            "Get:19 http://archive.ubuntu.com/ubuntu bionic-updates/main amd64 Packages [1,307 kB]\n",
            "Get:20 http://security.ubuntu.com/ubuntu bionic-security/universe amd64 Packages [869 kB]\n",
            "Get:21 http://ppa.launchpad.net/marutter/c2d4u3.5/ubuntu bionic/main Sources [1,849 kB]\n",
            "Get:22 http://archive.ubuntu.com/ubuntu bionic-updates/restricted amd64 Packages [104 kB]\n",
            "Get:23 http://archive.ubuntu.com/ubuntu bionic-updates/universe amd64 Packages [1,406 kB]\n",
            "Get:24 http://archive.ubuntu.com/ubuntu bionic-updates/multiverse amd64 Packages [13.6 kB]\n",
            "Get:25 http://archive.ubuntu.com/ubuntu bionic-backports/universe amd64 Packages [8,432 B]\n",
            "Get:26 http://ppa.launchpad.net/marutter/c2d4u3.5/ubuntu bionic/main amd64 Packages [892 kB]\n",
            "Get:27 http://ppa.launchpad.net/mscore-ubuntu/mscore-stable/ubuntu bionic/main amd64 Packages [1,829 B]\n",
            "Fetched 7,906 kB in 7s (1,109 kB/s)\n",
            "Reading package lists... Done\n",
            "Ign:1 https://developer.download.nvidia.com/compute/cuda/repos/ubuntu1804/x86_64  InRelease\n",
            "Hit:2 http://security.ubuntu.com/ubuntu bionic-security InRelease\n",
            "Ign:3 https://developer.download.nvidia.com/compute/machine-learning/repos/ubuntu1804/x86_64  InRelease\n",
            "Hit:4 https://developer.download.nvidia.com/compute/cuda/repos/ubuntu1804/x86_64  Release\n",
            "Hit:5 http://ppa.launchpad.net/graphics-drivers/ppa/ubuntu bionic InRelease\n",
            "Hit:6 https://developer.download.nvidia.com/compute/machine-learning/repos/ubuntu1804/x86_64  Release\n",
            "Hit:7 http://archive.ubuntu.com/ubuntu bionic InRelease\n",
            "Hit:9 http://archive.ubuntu.com/ubuntu bionic-updates InRelease\n",
            "Hit:10 https://cloud.r-project.org/bin/linux/ubuntu bionic-cran35/ InRelease\n",
            "Hit:11 http://ppa.launchpad.net/marutter/c2d4u3.5/ubuntu bionic InRelease\n",
            "Hit:12 http://archive.ubuntu.com/ubuntu bionic-backports InRelease\n",
            "Hit:14 http://ppa.launchpad.net/mscore-ubuntu/mscore-stable/ubuntu bionic InRelease\n",
            "Reading package lists... Done\n",
            "Reading package lists... Done\n",
            "Building dependency tree       \n",
            "Reading state information... Done\n",
            "The following package was automatically installed and is no longer required:\n",
            "  libnvidia-common-440\n",
            "Use 'apt autoremove' to remove it.\n",
            "The following additional packages will be installed:\n",
            "  desktop-file-utils fonts-freefont-ttf libgl1-mesa-glx libportaudio2\n",
            "  libportmidi0 libqt5help5 libqt5qml5 libqt5quick5 libqt5sql5-sqlite\n",
            "  libqt5svg5 libqt5xmlpatterns5 musescore-common\n",
            "  musescore-general-soundfont-small qml-module-qtgraphicaleffects\n",
            "  qml-module-qtquick-controls qml-module-qtquick-dialogs\n",
            "  qml-module-qtquick-layouts qml-module-qtquick-privatewidgets\n",
            "  qml-module-qtquick-window2 qml-module-qtquick2\n",
            "Suggested packages:\n",
            "  qt5-qmltooling-plugins pulseaudio-utils\n",
            "The following NEW packages will be installed:\n",
            "  desktop-file-utils fonts-freefont-ttf libgl1-mesa-glx libportaudio2\n",
            "  libportmidi0 libqt5help5 libqt5qml5 libqt5quick5 libqt5sql5-sqlite\n",
            "  libqt5svg5 libqt5xmlpatterns5 musescore musescore-common\n",
            "  musescore-general-soundfont-small qml-module-qtgraphicaleffects\n",
            "  qml-module-qtquick-controls qml-module-qtquick-dialogs\n",
            "  qml-module-qtquick-layouts qml-module-qtquick-privatewidgets\n",
            "  qml-module-qtquick-window2 qml-module-qtquick2\n",
            "0 upgraded, 21 newly installed, 0 to remove and 66 not upgraded.\n",
            "Need to get 51.8 MB of archives.\n",
            "After this operation, 117 MB of additional disk space will be used.\n",
            "Get:1 http://archive.ubuntu.com/ubuntu bionic/main amd64 libqt5svg5 amd64 5.9.5-0ubuntu1 [128 kB]\n",
            "Get:2 http://ppa.launchpad.net/mscore-ubuntu/mscore-stable/ubuntu bionic/main amd64 musescore-general-soundfont-small all 0.2-2~ppa [34.1 MB]\n",
            "Get:3 http://archive.ubuntu.com/ubuntu bionic-updates/universe amd64 libqt5qml5 amd64 5.9.5-0ubuntu1.1 [1,242 kB]\n",
            "Get:4 http://archive.ubuntu.com/ubuntu bionic-updates/universe amd64 libqt5quick5 amd64 5.9.5-0ubuntu1.1 [1,201 kB]\n",
            "Get:5 http://archive.ubuntu.com/ubuntu bionic-updates/universe amd64 qml-module-qtquick-window2 amd64 5.9.5-0ubuntu1.1 [18.1 kB]\n",
            "Get:6 http://archive.ubuntu.com/ubuntu bionic-updates/universe amd64 qml-module-qtquick2 amd64 5.9.5-0ubuntu1.1 [31.4 kB]\n",
            "Get:7 http://archive.ubuntu.com/ubuntu bionic/universe amd64 qml-module-qtgraphicaleffects amd64 5.9.5-0ubuntu1 [96.1 kB]\n",
            "Get:8 http://archive.ubuntu.com/ubuntu bionic-updates/universe amd64 qml-module-qtquick-layouts amd64 5.9.5-0ubuntu1.1 [44.9 kB]\n",
            "Get:9 http://archive.ubuntu.com/ubuntu bionic/universe amd64 qml-module-qtquick-controls amd64 5.9.5-0ubuntu1 [712 kB]\n",
            "Get:10 http://archive.ubuntu.com/ubuntu bionic-updates/main amd64 desktop-file-utils amd64 0.23-1ubuntu3.18.04.2 [51.4 kB]\n",
            "Get:11 http://archive.ubuntu.com/ubuntu bionic/main amd64 fonts-freefont-ttf all 20120503-7 [4,202 kB]\n",
            "Get:12 http://archive.ubuntu.com/ubuntu bionic-updates/main amd64 libgl1-mesa-glx amd64 20.0.8-0ubuntu1~18.04.1 [5,532 B]\n",
            "Get:13 http://archive.ubuntu.com/ubuntu bionic/universe amd64 libportaudio2 amd64 19.6.0-1 [64.6 kB]\n",
            "Get:14 http://archive.ubuntu.com/ubuntu bionic/universe amd64 libportmidi0 amd64 1:217-6 [17.8 kB]\n",
            "Get:15 http://archive.ubuntu.com/ubuntu bionic/universe amd64 libqt5help5 amd64 5.9.5-0ubuntu1 [133 kB]\n",
            "Get:16 http://archive.ubuntu.com/ubuntu bionic-updates/main amd64 libqt5sql5-sqlite amd64 5.9.5+dfsg-0ubuntu2.5 [40.2 kB]\n",
            "Get:17 http://archive.ubuntu.com/ubuntu bionic/universe amd64 libqt5xmlpatterns5 amd64 5.9.5-0ubuntu1 [916 kB]\n",
            "Get:18 http://archive.ubuntu.com/ubuntu bionic/universe amd64 qml-module-qtquick-privatewidgets amd64 5.9.5-0ubuntu1 [41.7 kB]\n",
            "Get:19 http://archive.ubuntu.com/ubuntu bionic/universe amd64 qml-module-qtquick-dialogs amd64 5.9.5-0ubuntu1 [122 kB]\n",
            "Get:20 http://ppa.launchpad.net/mscore-ubuntu/mscore-stable/ubuntu bionic/main amd64 musescore-common all 2.3.2+dfsg3-7~ppa1804+1 [3,346 kB]\n",
            "Get:21 http://ppa.launchpad.net/mscore-ubuntu/mscore-stable/ubuntu bionic/main amd64 musescore amd64 2.3.2+dfsg3-7~ppa1804+1 [5,265 kB]\n",
            "Fetched 51.8 MB in 10s (5,151 kB/s)\n",
            "Selecting previously unselected package libqt5svg5:amd64.\n",
            "(Reading database ... 144465 files and directories currently installed.)\n",
            "Preparing to unpack .../00-libqt5svg5_5.9.5-0ubuntu1_amd64.deb ...\n",
            "Unpacking libqt5svg5:amd64 (5.9.5-0ubuntu1) ...\n",
            "Selecting previously unselected package libqt5qml5:amd64.\n",
            "Preparing to unpack .../01-libqt5qml5_5.9.5-0ubuntu1.1_amd64.deb ...\n",
            "Unpacking libqt5qml5:amd64 (5.9.5-0ubuntu1.1) ...\n",
            "Selecting previously unselected package libqt5quick5:amd64.\n",
            "Preparing to unpack .../02-libqt5quick5_5.9.5-0ubuntu1.1_amd64.deb ...\n",
            "Unpacking libqt5quick5:amd64 (5.9.5-0ubuntu1.1) ...\n",
            "Selecting previously unselected package qml-module-qtquick-window2:amd64.\n",
            "Preparing to unpack .../03-qml-module-qtquick-window2_5.9.5-0ubuntu1.1_amd64.deb ...\n",
            "Unpacking qml-module-qtquick-window2:amd64 (5.9.5-0ubuntu1.1) ...\n",
            "Selecting previously unselected package qml-module-qtquick2:amd64.\n",
            "Preparing to unpack .../04-qml-module-qtquick2_5.9.5-0ubuntu1.1_amd64.deb ...\n",
            "Unpacking qml-module-qtquick2:amd64 (5.9.5-0ubuntu1.1) ...\n",
            "Selecting previously unselected package qml-module-qtgraphicaleffects:amd64.\n",
            "Preparing to unpack .../05-qml-module-qtgraphicaleffects_5.9.5-0ubuntu1_amd64.deb ...\n",
            "Unpacking qml-module-qtgraphicaleffects:amd64 (5.9.5-0ubuntu1) ...\n",
            "Selecting previously unselected package qml-module-qtquick-layouts:amd64.\n",
            "Preparing to unpack .../06-qml-module-qtquick-layouts_5.9.5-0ubuntu1.1_amd64.deb ...\n",
            "Unpacking qml-module-qtquick-layouts:amd64 (5.9.5-0ubuntu1.1) ...\n",
            "Selecting previously unselected package qml-module-qtquick-controls:amd64.\n",
            "Preparing to unpack .../07-qml-module-qtquick-controls_5.9.5-0ubuntu1_amd64.deb ...\n",
            "Unpacking qml-module-qtquick-controls:amd64 (5.9.5-0ubuntu1) ...\n",
            "Selecting previously unselected package desktop-file-utils.\n",
            "Preparing to unpack .../08-desktop-file-utils_0.23-1ubuntu3.18.04.2_amd64.deb ...\n",
            "Unpacking desktop-file-utils (0.23-1ubuntu3.18.04.2) ...\n",
            "Selecting previously unselected package fonts-freefont-ttf.\n",
            "Preparing to unpack .../09-fonts-freefont-ttf_20120503-7_all.deb ...\n",
            "Unpacking fonts-freefont-ttf (20120503-7) ...\n",
            "Selecting previously unselected package libgl1-mesa-glx:amd64.\n",
            "Preparing to unpack .../10-libgl1-mesa-glx_20.0.8-0ubuntu1~18.04.1_amd64.deb ...\n",
            "Unpacking libgl1-mesa-glx:amd64 (20.0.8-0ubuntu1~18.04.1) ...\n",
            "Selecting previously unselected package libportaudio2:amd64.\n",
            "Preparing to unpack .../11-libportaudio2_19.6.0-1_amd64.deb ...\n",
            "Unpacking libportaudio2:amd64 (19.6.0-1) ...\n",
            "Selecting previously unselected package libportmidi0:amd64.\n",
            "Preparing to unpack .../12-libportmidi0_1%3a217-6_amd64.deb ...\n",
            "Unpacking libportmidi0:amd64 (1:217-6) ...\n",
            "Selecting previously unselected package libqt5help5:amd64.\n",
            "Preparing to unpack .../13-libqt5help5_5.9.5-0ubuntu1_amd64.deb ...\n",
            "Unpacking libqt5help5:amd64 (5.9.5-0ubuntu1) ...\n",
            "Selecting previously unselected package libqt5sql5-sqlite:amd64.\n",
            "Preparing to unpack .../14-libqt5sql5-sqlite_5.9.5+dfsg-0ubuntu2.5_amd64.deb ...\n",
            "Unpacking libqt5sql5-sqlite:amd64 (5.9.5+dfsg-0ubuntu2.5) ...\n",
            "Selecting previously unselected package libqt5xmlpatterns5:amd64.\n",
            "Preparing to unpack .../15-libqt5xmlpatterns5_5.9.5-0ubuntu1_amd64.deb ...\n",
            "Unpacking libqt5xmlpatterns5:amd64 (5.9.5-0ubuntu1) ...\n",
            "Selecting previously unselected package qml-module-qtquick-privatewidgets:amd64.\n",
            "Preparing to unpack .../16-qml-module-qtquick-privatewidgets_5.9.5-0ubuntu1_amd64.deb ...\n",
            "Unpacking qml-module-qtquick-privatewidgets:amd64 (5.9.5-0ubuntu1) ...\n",
            "Selecting previously unselected package qml-module-qtquick-dialogs:amd64.\n",
            "Preparing to unpack .../17-qml-module-qtquick-dialogs_5.9.5-0ubuntu1_amd64.deb ...\n",
            "Unpacking qml-module-qtquick-dialogs:amd64 (5.9.5-0ubuntu1) ...\n",
            "Selecting previously unselected package musescore-general-soundfont-small.\n",
            "Preparing to unpack .../18-musescore-general-soundfont-small_0.2-2~ppa_all.deb ...\n",
            "Unpacking musescore-general-soundfont-small (0.2-2~ppa) ...\n",
            "Selecting previously unselected package musescore-common.\n",
            "Preparing to unpack .../19-musescore-common_2.3.2+dfsg3-7~ppa1804+1_all.deb ...\n",
            "Unpacking musescore-common (2.3.2+dfsg3-7~ppa1804+1) ...\n",
            "Selecting previously unselected package musescore.\n",
            "Preparing to unpack .../20-musescore_2.3.2+dfsg3-7~ppa1804+1_amd64.deb ...\n",
            "Unpacking musescore (2.3.2+dfsg3-7~ppa1804+1) ...\n",
            "Setting up libqt5qml5:amd64 (5.9.5-0ubuntu1.1) ...\n",
            "Setting up libqt5quick5:amd64 (5.9.5-0ubuntu1.1) ...\n",
            "Setting up qml-module-qtquick2:amd64 (5.9.5-0ubuntu1.1) ...\n",
            "Setting up libportaudio2:amd64 (19.6.0-1) ...\n",
            "Setting up desktop-file-utils (0.23-1ubuntu3.18.04.2) ...\n",
            "Setting up qml-module-qtquick-layouts:amd64 (5.9.5-0ubuntu1.1) ...\n",
            "Setting up musescore-general-soundfont-small (0.2-2~ppa) ...\n",
            "update-alternatives: using /usr/share/sounds/sf3/MuseScore_General_Lite.sf3 to provide /usr/share/sounds/sf3/default-GM.sf3 (default-GM.sf3) in auto mode\n",
            "update-alternatives: using /usr/share/sounds/sf3/MuseScore_General_Lite.sf3 to provide /usr/share/sounds/sf3/MuseScore_General.sf3 (MuseScore_General.sf3) in auto mode\n",
            "Setting up libqt5help5:amd64 (5.9.5-0ubuntu1) ...\n",
            "Setting up libqt5sql5-sqlite:amd64 (5.9.5+dfsg-0ubuntu2.5) ...\n",
            "Setting up libqt5xmlpatterns5:amd64 (5.9.5-0ubuntu1) ...\n",
            "Setting up musescore-common (2.3.2+dfsg3-7~ppa1804+1) ...\n",
            "Setting up qml-module-qtquick-privatewidgets:amd64 (5.9.5-0ubuntu1) ...\n",
            "Setting up libgl1-mesa-glx:amd64 (20.0.8-0ubuntu1~18.04.1) ...\n",
            "Setting up libportmidi0:amd64 (1:217-6) ...\n",
            "Setting up libqt5svg5:amd64 (5.9.5-0ubuntu1) ...\n",
            "Setting up qml-module-qtquick-window2:amd64 (5.9.5-0ubuntu1.1) ...\n",
            "Setting up qml-module-qtquick-dialogs:amd64 (5.9.5-0ubuntu1) ...\n",
            "Setting up fonts-freefont-ttf (20120503-7) ...\n",
            "Setting up qml-module-qtgraphicaleffects:amd64 (5.9.5-0ubuntu1) ...\n",
            "Setting up qml-module-qtquick-controls:amd64 (5.9.5-0ubuntu1) ...\n",
            "Setting up musescore (2.3.2+dfsg3-7~ppa1804+1) ...\n",
            "Processing triggers for libc-bin (2.27-3ubuntu1) ...\n",
            "/sbin/ldconfig.real: /usr/local/lib/python3.6/dist-packages/ideep4py/lib/libmkldnn.so.0 is not a symbolic link\n",
            "\n",
            "Processing triggers for man-db (2.8.3-2ubuntu0.1) ...\n",
            "Processing triggers for shared-mime-info (1.9-2) ...\n",
            "Processing triggers for hicolor-icon-theme (0.17-2) ...\n",
            "Processing triggers for fontconfig (2.12.6-0ubuntu2) ...\n",
            "Processing triggers for mime-support (3.60ubuntu1) ...\n",
            "Reading package lists... Done\n",
            "Building dependency tree       \n",
            "Reading state information... Done\n",
            "The following package was automatically installed and is no longer required:\n",
            "  libnvidia-common-440\n",
            "Use 'apt autoremove' to remove it.\n",
            "The following NEW packages will be installed:\n",
            "  xvfb\n",
            "0 upgraded, 1 newly installed, 0 to remove and 66 not upgraded.\n",
            "Need to get 784 kB of archives.\n",
            "After this operation, 2,266 kB of additional disk space will be used.\n",
            "Get:1 http://archive.ubuntu.com/ubuntu bionic-updates/universe amd64 xvfb amd64 2:1.19.6-1ubuntu4.4 [784 kB]\n",
            "Fetched 784 kB in 2s (428 kB/s)\n",
            "Selecting previously unselected package xvfb.\n",
            "(Reading database ... 145435 files and directories currently installed.)\n",
            "Preparing to unpack .../xvfb_2%3a1.19.6-1ubuntu4.4_amd64.deb ...\n",
            "Unpacking xvfb (2:1.19.6-1ubuntu4.4) ...\n",
            "Setting up xvfb (2:1.19.6-1ubuntu4.4) ...\n",
            "Processing triggers for man-db (2.8.3-2ubuntu0.1) ...\n",
            " * Setting up X socket directories...\n",
            "   ...done.\n"
          ],
          "name": "stdout"
        }
      ]
    },
    {
      "cell_type": "code",
      "metadata": {
        "id": "myJda-3OLZAE"
      },
      "source": [
        "import os\n",
        "os.putenv('DISPLAY', ':99.0')"
      ],
      "execution_count": null,
      "outputs": []
    },
    {
      "cell_type": "code",
      "metadata": {
        "id": "jlO9a0kvLY9R"
      },
      "source": [
        "!start-stop-daemon --start --pidfile /var/run/xvfb.pid --make-pidfile --background --exec /usr/bin/Xvfb -- :99 -screen 0 1024x768x24 -ac +extension GLX +render -noreset"
      ],
      "execution_count": null,
      "outputs": []
    },
    {
      "cell_type": "code",
      "metadata": {
        "id": "Dw9S80aXLY6b"
      },
      "source": [
        "from music21 import *\n",
        "us = environment.UserSettings()\n",
        "us['musescoreDirectPNGPath'] = '/usr/bin/mscore'\n",
        "us['directoryScratch'] = '/tmp'\n",
        "\n",
        "# music21 is Open Source under the BSD License\n",
        "# Copyright (c) 2006-20 Michael Scott Cuthbert and cuthbertLab\n",
        "# Support music21 by citing it in your research:\n",
        "# Cuthbert, Michael Scott.  _music21: a Toolkit for Computer-Aided Music Research_, http://web.mit.edu/music21. 2006-20."
      ],
      "execution_count": null,
      "outputs": []
    },
    {
      "cell_type": "code",
      "metadata": {
        "id": "jL43jTEoLYxY",
        "colab": {
          "base_uri": "https://localhost:8080/",
          "height": 66
        },
        "outputId": "83e6d0a7-f8aa-4500-e481-72ff4fea8ce5"
      },
      "source": [
        "n = note.Note('C#5')\n",
        "n.show()"
      ],
      "execution_count": null,
      "outputs": [
        {
          "output_type": "display_data",
          "data": {
            "image/png": "[encoded data removed]",
            "text/plain": [
              "<IPython.core.display.Image object>"
            ]
          },
          "metadata": {
            "tags": [],
            "image/png": {
              "width": 146,
              "height": 49
            }
          }
        }
      ]
    },
    {
      "cell_type": "markdown",
      "metadata": {
        "id": "Ru_3HHs4Dm-1"
      },
      "source": [
        "음악 데이터 불러오기 <br>\n",
        "https://github.com/rickiepark/GDL_code"
      ]
    },
    {
      "cell_type": "code",
      "metadata": {
        "id": "asRwZwGNDTOX"
      },
      "source": [
        "from music21 import converter"
      ],
      "execution_count": null,
      "outputs": []
    },
    {
      "cell_type": "markdown",
      "metadata": {
        "id": "Jh8xbswoKMBT"
      },
      "source": [
        "데이터 확인"
      ]
    },
    {
      "cell_type": "code",
      "metadata": {
        "id": "-o5uY90ZKLks"
      },
      "source": [
        "dataset_name = 'cello'\n",
        "filename = 'cs1-2all'\n",
        "file = \"./data/{}/{}.mid\".format(dataset_name, filename)\n",
        "\n",
        "original_score = converter.parse(file).chordify()"
      ],
      "execution_count": null,
      "outputs": []
    },
    {
      "cell_type": "code",
      "metadata": {
        "id": "O907v4yuDvMn",
        "colab": {
          "base_uri": "https://localhost:8080/",
          "height": 961
        },
        "outputId": "f8386443-e460-4a0e-9d14-4b925050da61"
      },
      "source": [
        "original_score.show()"
      ],
      "execution_count": null,
      "outputs": [
        {
          "output_type": "display_data",
          "data": {
            "image/png": "[encoded data removed]",
            "text/plain": [
              "<IPython.core.display.Image object>"
            ]
          },
          "metadata": {
            "tags": [],
            "image/png": {
              "width": 753,
              "height": 944
            }
          }
        }
      ]
    },
    {
      "cell_type": "markdown",
      "metadata": {
        "id": "FauKenRzMqEl"
      },
      "source": [
        "데이터 추출"
      ]
    },
    {
      "cell_type": "code",
      "metadata": {
        "id": "6eHQp4kYMbMF"
      },
      "source": [
        "from music21 import chord, note"
      ],
      "execution_count": null,
      "outputs": []
    },
    {
      "cell_type": "code",
      "metadata": {
        "id": "TKXNX5rOMbJ-"
      },
      "source": [
        "notes = []\n",
        "durations = []\n",
        "\n",
        "for element in original_score.flat:\n",
        "\n",
        "    if isinstance(element, chord.Chord):\n",
        "        notes.append('.'.join(n.nameWithOctave for n in element.pitches))\n",
        "        durations.append(element.duration.quarterLength)\n",
        "\n",
        "    if isinstance(element, note.Note):\n",
        "        if element.isRest:\n",
        "            notes.append(str(element.name))\n",
        "            durations.append(element.duration.quarterLength)\n",
        "        else:\n",
        "            notes.append(str(element.nameWithOctave))\n",
        "            durations.append(element.duration.quarterLength)"
      ],
      "execution_count": null,
      "outputs": []
    },
    {
      "cell_type": "code",
      "metadata": {
        "id": "ujumwD8NMbFD",
        "colab": {
          "base_uri": "https://localhost:8080/",
          "height": 1000
        },
        "outputId": "2a381fba-9787-4345-b2f1-e819992c4639"
      },
      "source": [
        "print('\\nduration', 'pitch')\n",
        "for n,d in zip(notes,durations):\n",
        "    print(d, '\\t', n)"
      ],
      "execution_count": null,
      "outputs": [
        {
          "output_type": "stream",
          "text": [
            "\n",
            "duration pitch\n",
            "0.25 \t B3\n",
            "1.0 \t G2.D3.B3\n",
            "0.25 \t B3\n",
            "0.25 \t A3\n",
            "0.25 \t G3\n",
            "0.25 \t F#3\n",
            "0.25 \t G3\n",
            "0.25 \t D3\n",
            "0.25 \t E3\n",
            "0.25 \t F#3\n",
            "0.25 \t G3\n",
            "0.25 \t A3\n",
            "0.25 \t B3\n",
            "0.25 \t C4\n",
            "0.25 \t D4\n",
            "0.25 \t B3\n",
            "0.25 \t G3\n",
            "0.25 \t F#3\n",
            "0.25 \t G3\n",
            "0.25 \t E3\n",
            "0.25 \t D3\n",
            "0.25 \t C3\n",
            "0.25 \t B2\n",
            "0.25 \t C3\n",
            "0.25 \t D3\n",
            "0.25 \t E3\n",
            "0.25 \t F#3\n",
            "0.25 \t G3\n",
            "0.25 \t A3\n",
            "0.25 \t B3\n",
            "0.25 \t C4\n",
            "0.25 \t A3\n",
            "0.25 \t G3\n",
            "0.25 \t F#3\n",
            "0.25 \t G3\n",
            "0.25 \t E3\n",
            "0.25 \t F#3\n",
            "0.25 \t G3\n",
            "0.25 \t A2\n",
            "0.25 \t D3\n",
            "0.25 \t F#3\n",
            "0.25 \t G3\n",
            "0.25 \t A3\n",
            "0.25 \t B3\n",
            "0.25 \t C4\n",
            "0.25 \t A3\n",
            "0.25 \t B3\n",
            "0.25 \t G3\n",
            "0.25 \t G3\n",
            "0.25 \t D3\n",
            "0.25 \t D3\n",
            "0.25 \t B2\n",
            "0.25 \t B2\n",
            "0.25 \t G2\n",
            "0.75 \t G2\n",
            "0.25 \t B3\n",
            "0.25 \t C4\n",
            "0.25 \t B3\n",
            "0.25 \t A3\n",
            "0.25 \t G3\n",
            "0.25 \t A3\n",
            "0.25 \t B3\n",
            "0.25 \t C4\n",
            "0.25 \t A3\n",
            "0.25 \t G3\n",
            "0.25 \t F#3\n",
            "0.25 \t G3\n",
            "0.25 \t A3\n",
            "0.75 \t E-3\n",
            "0.25 \t C4\n",
            "0.25 \t B3\n",
            "0.25 \t A3\n",
            "0.25 \t G3\n",
            "0.25 \t F#3\n",
            "0.25 \t G3\n",
            "0.25 \t E3\n",
            "0.25 \t E3\n",
            "0.25 \t B2\n",
            "0.25 \t B2\n",
            "0.25 \t G2\n",
            "0.25 \t G2\n",
            "0.25 \t E2\n",
            "0.75 \t E2\n",
            "0.25 \t B2\n",
            "0.25 \t E3\n",
            "0.25 \t G3\n",
            "0.25 \t F#3\n",
            "0.25 \t A3\n",
            "0.25 \t G3\n",
            "0.25 \t F#3\n",
            "0.25 \t E3\n",
            "0.25 \t F#3\n",
            "0.25 \t G3\n",
            "0.25 \t C#4\n",
            "0.25 \t G3\n",
            "0.25 \t F#3\n",
            "0.25 \t G3\n",
            "0.25 \t C#4\n",
            "0.25 \t E3\n",
            "0.25 \t F#3\n",
            "0.25 \t G3\n",
            "0.25 \t E3\n",
            "0.25 \t A2\n",
            "0.25 \t G3\n",
            "0.5 \t F#3\n",
            "0.25 \t D3\n",
            "0.25 \t E3\n",
            "0.25 \t F#3\n",
            "0.25 \t D3\n",
            "0.25 \t G3\n",
            "0.25 \t E3\n",
            "0.25 \t F#3\n",
            "0.25 \t D3\n",
            "0.25 \t F#3\n",
            "0.25 \t G3\n",
            "0.25 \t A3\n",
            "0.25 \t B3\n",
            "0.25 \t C4\n",
            "0.25 \t A3\n",
            "0.25 \t B3\n",
            "0.25 \t D3\n",
            "0.25 \t G2\n",
            "0.25 \t D3\n",
            "0.25 \t B3\n",
            "0.25 \t G3\n",
            "0.25 \t A3\n",
            "0.25 \t F#3\n",
            "0.25 \t G3\n",
            "0.25 \t E3\n",
            "0.25 \t G3\n",
            "0.25 \t A3\n",
            "0.25 \t B3\n",
            "0.25 \t C#4\n",
            "0.25 \t D4\n",
            "0.25 \t B3\n",
            "0.25 \t C#4\n",
            "0.25 \t E3\n",
            "0.25 \t G2\n",
            "0.25 \t E3\n",
            "0.25 \t C#4\n",
            "0.25 \t A3\n",
            "0.25 \t B3\n",
            "0.25 \t D4\n",
            "0.25 \t C#4\n",
            "0.25 \t A3\n",
            "0.25 \t D4\n",
            "0.25 \t B3\n",
            "0.25 \t C#4\n",
            "0.25 \t A3\n",
            "0.25 \t E4\n",
            "0.25 \t G3\n",
            "0.75 \t F#3\n",
            "0.25 \t D4\n",
            "0.25 \t A3\n",
            "0.25 \t G3\n",
            "0.25 \t F#3\n",
            "0.25 \t E3\n",
            "0.25 \t D3\n",
            "0.25 \t A3\n",
            "0.25 \t G3\n",
            "0.25 \t E3\n",
            "0.25 \t F#3\n",
            "0.25 \t D3\n",
            "0.25 \t A3\n",
            "0.25 \t C3\n",
            "0.75 \t B2\n",
            "0.25 \t G3\n",
            "0.25 \t D3\n",
            "0.25 \t C3\n",
            "0.25 \t B2\n",
            "0.25 \t A2\n",
            "0.25 \t G2\n",
            "0.25 \t D3\n",
            "0.25 \t C3\n",
            "0.25 \t A2\n",
            "0.25 \t B2\n",
            "0.25 \t G2\n",
            "0.25 \t D3\n",
            "0.25 \t F#2\n",
            "0.25 \t E2\n",
            "0.25 \t G2\n",
            "0.25 \t A2\n",
            "0.25 \t B2\n",
            "0.25 \t C#3\n",
            "0.25 \t D3\n",
            "0.25 \t E3\n",
            "0.25 \t F#3\n",
            "0.25 \t G3\n",
            "0.25 \t A3\n",
            "0.25 \t C#4\n",
            "0.25 \t D4\n",
            "0.25 \t E4\n",
            "0.25 \t A3\n",
            "0.5 \t G4\n",
            "0.25 \t D3\n",
            "0.25 \t G4\n",
            "0.25 \t F#4\n",
            "0.25 \t E4\n",
            "0.25 \t F#4\n",
            "0.25 \t D4\n",
            "0.25 \t A3\n",
            "0.25 \t D4\n",
            "0.25 \t D3\n",
            "0.25 \t F#3\n",
            "0.25 \t A3\n",
            "0.25 \t C4\n",
            "0.75 \t B3\n",
            "0.25 \t A3\n",
            "0.75 \t G2.D3.B3\n",
            "0.25 \t A3\n",
            "0.25 \t G3\n",
            "0.25 \t F#3\n",
            "0.25 \t E3\n",
            "0.25 \t D4\n",
            "0.25 \t C#4\n",
            "0.25 \t E4\n",
            "0.25 \t A3\n",
            "0.25 \t G3\n",
            "0.25 \t F#3\n",
            "0.25 \t D3\n",
            "0.25 \t A2\n",
            "0.25 \t C#3\n",
            "0.75 \t D2\n",
            "0.25 \t A2\n",
            "0.25 \t D3\n",
            "0.25 \t F#3\n",
            "0.25 \t A3\n",
            "0.25 \t C#4\n",
            "0.25 \t D4\n",
            "0.25 \t A3\n",
            "0.25 \t F#3\n",
            "0.25 \t D3\n",
            "0.75 \t D2\n",
            "0.25 \t B3\n",
            "1.0 \t G2.D3.B3\n",
            "0.25 \t B3\n",
            "0.25 \t A3\n",
            "0.25 \t G3\n",
            "0.25 \t F#3\n",
            "0.25 \t G3\n",
            "0.25 \t D3\n",
            "0.25 \t E3\n",
            "0.25 \t F#3\n",
            "0.25 \t G3\n",
            "0.25 \t A3\n",
            "0.25 \t B3\n",
            "0.25 \t C4\n",
            "0.25 \t D4\n",
            "0.25 \t B3\n",
            "0.25 \t G3\n",
            "0.25 \t F#3\n",
            "0.25 \t G3\n",
            "0.25 \t E3\n",
            "0.25 \t D3\n",
            "0.25 \t C3\n",
            "0.25 \t B2\n",
            "0.25 \t C3\n",
            "0.25 \t D3\n",
            "0.25 \t E3\n",
            "0.25 \t F#3\n",
            "0.25 \t G3\n",
            "0.25 \t A3\n",
            "0.25 \t B3\n",
            "0.25 \t C4\n",
            "0.25 \t A3\n",
            "0.25 \t G3\n",
            "0.25 \t F#3\n",
            "0.25 \t G3\n",
            "0.25 \t E3\n",
            "0.25 \t F#3\n",
            "0.25 \t G3\n",
            "0.25 \t A2\n",
            "0.25 \t D3\n",
            "0.25 \t F#3\n",
            "0.25 \t G3\n",
            "0.25 \t A3\n",
            "0.25 \t B3\n",
            "0.25 \t C4\n",
            "0.25 \t A3\n",
            "0.25 \t B3\n",
            "0.25 \t G3\n",
            "0.25 \t G3\n",
            "0.25 \t D3\n",
            "0.25 \t D3\n",
            "0.25 \t B2\n",
            "0.25 \t B2\n",
            "0.25 \t G2\n",
            "0.75 \t G2\n",
            "0.25 \t B3\n",
            "0.25 \t C4\n",
            "0.25 \t B3\n",
            "0.25 \t A3\n",
            "0.25 \t G3\n",
            "0.25 \t A3\n",
            "0.25 \t B3\n",
            "0.25 \t C4\n",
            "0.25 \t A3\n",
            "0.25 \t G3\n",
            "0.25 \t F#3\n",
            "0.25 \t G3\n",
            "0.25 \t A3\n",
            "0.75 \t E-3\n",
            "0.25 \t C4\n",
            "0.25 \t B3\n",
            "0.25 \t A3\n",
            "0.25 \t G3\n",
            "0.25 \t F#3\n",
            "0.25 \t G3\n",
            "0.25 \t E3\n",
            "0.25 \t E3\n",
            "0.25 \t B2\n",
            "0.25 \t B2\n",
            "0.25 \t G2\n",
            "0.25 \t G2\n",
            "0.25 \t E2\n",
            "0.75 \t E2\n",
            "0.25 \t B2\n",
            "0.25 \t E3\n",
            "0.25 \t G3\n",
            "0.25 \t F#3\n",
            "0.25 \t A3\n",
            "0.25 \t G3\n",
            "0.25 \t F#3\n",
            "0.25 \t E3\n",
            "0.25 \t F#3\n",
            "0.25 \t G3\n",
            "0.25 \t C#4\n",
            "0.25 \t G3\n",
            "0.25 \t F#3\n",
            "0.25 \t G3\n",
            "0.25 \t C#4\n",
            "0.25 \t E3\n",
            "0.25 \t F#3\n",
            "0.25 \t G3\n",
            "0.25 \t E3\n",
            "0.25 \t A2\n",
            "0.25 \t G3\n",
            "0.5 \t F#3\n",
            "0.25 \t D3\n",
            "0.25 \t E3\n",
            "0.25 \t F#3\n",
            "0.25 \t D3\n",
            "0.25 \t G3\n",
            "0.25 \t E3\n",
            "0.25 \t F#3\n",
            "0.25 \t D3\n",
            "0.25 \t F#3\n",
            "0.25 \t G3\n",
            "0.25 \t A3\n",
            "0.25 \t B3\n",
            "0.25 \t C4\n",
            "0.25 \t A3\n",
            "0.25 \t B3\n",
            "0.25 \t D3\n",
            "0.25 \t G2\n",
            "0.25 \t D3\n",
            "0.25 \t B3\n",
            "0.25 \t G3\n",
            "0.25 \t A3\n",
            "0.25 \t F#3\n",
            "0.25 \t G3\n",
            "0.25 \t E3\n",
            "0.25 \t G3\n",
            "0.25 \t A3\n",
            "0.25 \t B3\n",
            "0.25 \t C#4\n",
            "0.25 \t D4\n",
            "0.25 \t B3\n",
            "0.25 \t C#4\n",
            "0.25 \t E3\n",
            "0.25 \t G2\n",
            "0.25 \t E3\n",
            "0.25 \t C#4\n",
            "0.25 \t A3\n",
            "0.25 \t B3\n",
            "0.25 \t D4\n",
            "0.25 \t C#4\n",
            "0.25 \t A3\n",
            "0.25 \t D4\n",
            "0.25 \t B3\n",
            "0.25 \t C#4\n",
            "0.25 \t A3\n",
            "0.25 \t E4\n",
            "0.25 \t G3\n",
            "0.75 \t F#3\n",
            "0.25 \t D4\n",
            "0.25 \t A3\n",
            "0.25 \t G3\n",
            "0.25 \t F#3\n",
            "0.25 \t E3\n",
            "0.25 \t D3\n",
            "0.25 \t A3\n",
            "0.25 \t G3\n",
            "0.25 \t E3\n",
            "0.25 \t F#3\n",
            "0.25 \t D3\n",
            "0.25 \t A3\n",
            "0.25 \t C3\n",
            "0.75 \t B2\n",
            "0.25 \t G3\n",
            "0.25 \t D3\n",
            "0.25 \t C3\n",
            "0.25 \t B2\n",
            "0.25 \t A2\n",
            "0.25 \t G2\n",
            "0.25 \t D3\n",
            "0.25 \t C3\n",
            "0.25 \t A2\n",
            "0.25 \t B2\n",
            "0.25 \t G2\n",
            "0.25 \t D3\n",
            "0.25 \t F#2\n",
            "0.25 \t E2\n",
            "0.25 \t G2\n",
            "0.25 \t A2\n",
            "0.25 \t B2\n",
            "0.25 \t C#3\n",
            "0.25 \t D3\n",
            "0.25 \t E3\n",
            "0.25 \t F#3\n",
            "0.25 \t G3\n",
            "0.25 \t A3\n",
            "0.25 \t C#4\n",
            "0.25 \t D4\n",
            "0.25 \t E4\n",
            "0.25 \t A3\n",
            "0.5 \t G4\n",
            "0.25 \t D3\n",
            "0.25 \t G4\n",
            "0.25 \t F#4\n",
            "0.25 \t E4\n",
            "0.25 \t F#4\n",
            "0.25 \t D4\n",
            "0.25 \t A3\n",
            "0.25 \t D4\n",
            "0.25 \t D3\n",
            "0.25 \t F#3\n",
            "0.25 \t A3\n",
            "0.25 \t C4\n",
            "0.75 \t B3\n",
            "0.25 \t A3\n",
            "0.75 \t G2.D3.B3\n",
            "0.25 \t A3\n",
            "0.25 \t G3\n",
            "0.25 \t F#3\n",
            "0.25 \t E3\n",
            "0.25 \t D4\n",
            "0.25 \t C#4\n",
            "0.25 \t E4\n",
            "0.25 \t A3\n",
            "0.25 \t G3\n",
            "0.25 \t F#3\n",
            "0.25 \t D3\n",
            "0.25 \t A2\n",
            "0.25 \t C#3\n",
            "0.75 \t D2\n",
            "0.25 \t A2\n",
            "0.25 \t D3\n",
            "0.25 \t F#3\n",
            "0.25 \t A3\n",
            "0.25 \t C#4\n",
            "0.25 \t D4\n",
            "0.25 \t A3\n",
            "0.25 \t F#3\n",
            "0.25 \t D3\n",
            "0.75 \t D2\n",
            "0.25 \t A3\n",
            "1.25 \t D3.A3\n",
            "0.25 \t F#3\n",
            "0.25 \t G3\n",
            "0.25 \t A3\n",
            "0.25 \t D3\n",
            "0.25 \t E3\n",
            "0.25 \t F#3\n",
            "0.25 \t G3\n",
            "0.25 \t A3\n",
            "0.25 \t F#3\n",
            "0.25 \t D3\n",
            "0.25 \t C3\n",
            "0.25 \t B2\n",
            "0.25 \t D3\n",
            "0.25 \t G3\n",
            "0.25 \t F#3\n",
            "0.25 \t G3\n",
            "0.25 \t A3\n",
            "0.25 \t B3\n",
            "0.25 \t C4\n",
            "0.25 \t D4\n",
            "0.25 \t B3\n",
            "0.25 \t A3\n",
            "0.25 \t G3\n",
            "0.25 \t F3\n",
            "0.25 \t E3\n",
            "0.25 \t F3\n",
            "0.25 \t D4\n",
            "0.5 \t E3\n",
            "0.5 \t C3\n",
            "0.25 \t C4\n",
            "0.25 \t A2\n",
            "0.25 \t B2\n",
            "0.25 \t C3\n",
            "0.25 \t D2\n",
            "0.25 \t C4\n",
            "0.25 \t B3\n",
            "0.25 \t C4\n",
            "0.25 \t D4\n",
            "0.25 \t B3\n",
            "0.25 \t C4\n",
            "0.25 \t A3\n",
            "0.5 \t G#3\n",
            "0.5 \t E3\n",
            "0.25 \t B3\n",
            "0.25 \t D3\n",
            "0.25 \t C3\n",
            "0.25 \t B2\n",
            "0.25 \t C3\n",
            "0.25 \t E3\n",
            "0.25 \t F#3\n",
            "0.25 \t G#3\n",
            "0.25 \t A3\n",
            "0.25 \t C4\n",
            "0.25 \t B3\n",
            "0.25 \t A3\n",
            "0.5 \t D4\n",
            "0.25 \t B2\n",
            "0.25 \t C3\n",
            "0.25 \t D3\n",
            "0.25 \t E3\n",
            "0.25 \t F3\n",
            "0.25 \t A2\n",
            "0.75 \t G#2\n",
            "0.25 \t E3\n",
            "0.25 \t B3\n",
            "0.25 \t D4\n",
            "0.25 \t C4\n",
            "0.25 \t B3\n",
            "0.75 \t A2.E3.C4\n",
            "0.25 \t B3\n",
            "0.25 \t A3\n",
            "0.25 \t G3\n",
            "0.25 \t F3\n",
            "0.25 \t E3\n",
            "0.25 \t F3\n",
            "0.25 \t D3\n",
            "0.25 \t B-3\n",
            "0.25 \t A3\n",
            "0.25 \t B-3\n",
            "0.25 \t C4\n",
            "0.25 \t D4\n",
            "0.25 \t A3\n",
            "0.25 \t G#3\n",
            "0.25 \t A3\n",
            "0.25 \t B3\n",
            "0.25 \t E3\n",
            "0.25 \t F3\n",
            "0.25 \t D3\n",
            "0.25 \t C3\n",
            "0.25 \t B2\n",
            "0.25 \t C3\n",
            "0.25 \t E3\n",
            "0.25 \t A3\n",
            "0.25 \t B3\n",
            "0.75 \t E3.B3\n",
            "0.25 \t E3.A3\n",
            "0.75 \t A2.E3.A3\n",
            "0.25 \t B3\n",
            "0.25 \t C4\n",
            "0.25 \t B3\n",
            "0.25 \t C4\n",
            "0.25 \t G3\n",
            "0.25 \t F#3\n",
            "0.25 \t G3\n",
            "0.25 \t A3\n",
            "0.25 \t E3\n",
            "0.25 \t D3\n",
            "0.25 \t C3\n",
            "0.25 \t B2\n",
            "0.25 \t A2\n",
            "0.25 \t G2\n",
            "0.25 \t D3\n",
            "0.25 \t F#3\n",
            "0.25 \t C4\n",
            "0.25 \t B3\n",
            "0.25 \t A3\n",
            "0.25 \t G3\n",
            "0.25 \t A3\n",
            "0.25 \t B3\n",
            "0.25 \t C4\n",
            "0.25 \t D4\n",
            "0.25 \t E4\n",
            "0.25 \t D4\n",
            "0.25 \t E4\n",
            "0.25 \t F4\n",
            "0.25 \t D4\n",
            "0.5 \t E4\n",
            "0.5 \t G3\n",
            "0.25 \t C3\n",
            "0.25 \t D4\n",
            "0.25 \t C4\n",
            "0.25 \t B3\n",
            "0.25 \t A3\n",
            "0.25 \t B3\n",
            "0.25 \t C4\n",
            "0.25 \t E4\n",
            "0.75 \t D4\n",
            "0.25 \t C4\n",
            "0.5 \t D4\n",
            "0.5 \t A3\n",
            "0.25 \t B2\n",
            "0.25 \t C4\n",
            "0.25 \t B3\n",
            "0.25 \t A3\n",
            "0.25 \t G3\n",
            "0.25 \t F#3\n",
            "0.25 \t E3\n",
            "0.25 \t G3\n",
            "0.25 \t B3\n",
            "0.25 \t D4\n",
            "0.25 \t C4\n",
            "0.25 \t B3\n",
            "0.5 \t C4\n",
            "0.5 \t G3\n",
            "0.25 \t A2\n",
            "0.25 \t E3\n",
            "0.25 \t F#3\n",
            "0.25 \t G3\n",
            "0.25 \t F#3\n",
            "0.25 \t A3\n",
            "0.25 \t B3\n",
            "0.25 \t C4\n",
            "0.25 \t D3\n",
            "0.25 \t C3\n",
            "0.25 \t B2\n",
            "0.25 \t A2\n",
            "0.25 \t G2\n",
            "0.25 \t D3\n",
            "0.25 \t F#3\n",
            "0.25 \t A3\n",
            "0.25 \t C4\n",
            "0.25 \t A3\n",
            "0.25 \t F#3\n",
            "0.25 \t D3\n",
            "0.75 \t G2.D3.B3\n",
            "0.25 \t D3\n",
            "0.25 \t E3\n",
            "0.25 \t G3\n",
            "0.25 \t A3\n",
            "0.25 \t C#4\n",
            "0.25 \t D4\n",
            "0.25 \t A3\n",
            "0.25 \t F#3\n",
            "0.25 \t E3\n",
            "0.25 \t D3\n",
            "0.25 \t F3\n",
            "0.25 \t G3\n",
            "0.25 \t B3\n",
            "0.25 \t C4\n",
            "0.25 \t G3\n",
            "0.25 \t E3\n",
            "0.25 \t D3\n",
            "0.25 \t C3\n",
            "0.25 \t E3\n",
            "0.25 \t A3\n",
            "0.25 \t C4\n",
            "0.25 \t F#3\n",
            "0.25 \t A3\n",
            "0.25 \t C4\n",
            "0.25 \t E4\n",
            "0.75 \t D4\n",
            "0.25 \t C3\n",
            "0.25 \t B2\n",
            "0.25 \t G3\n",
            "0.25 \t A2\n",
            "0.25 \t G2\n",
            "0.25 \t D2\n",
            "0.25 \t A2\n",
            "0.25 \t G3\n",
            "0.25 \t F#3\n",
            "0.25 \t G3\n",
            "0.25 \t G2\n",
            "0.25 \t B2\n",
            "0.25 \t D3\n",
            "0.25 \t G3\n",
            "0.25 \t B3\n",
            "0.25 \t D4\n",
            "0.25 \t F#4\n",
            "0.25 \t G4\n",
            "0.25 \t D4\n",
            "0.25 \t B3\n",
            "0.25 \t G3\n",
            "2/3 \t G2\n",
            "0.25 \t A3\n",
            "1.25 \t D3.A3\n",
            "0.25 \t F#3\n",
            "0.25 \t G3\n",
            "0.25 \t A3\n",
            "0.25 \t D3\n",
            "0.25 \t E3\n",
            "0.25 \t F#3\n",
            "0.25 \t G3\n",
            "0.25 \t A3\n",
            "0.25 \t F#3\n",
            "0.25 \t D3\n",
            "0.25 \t C3\n",
            "0.25 \t B2\n",
            "0.25 \t D3\n",
            "0.25 \t G3\n",
            "0.25 \t F#3\n",
            "0.25 \t G3\n",
            "0.25 \t A3\n",
            "0.25 \t B3\n",
            "0.25 \t C4\n",
            "0.25 \t D4\n",
            "0.25 \t B3\n",
            "0.25 \t A3\n",
            "0.25 \t G3\n",
            "0.25 \t F3\n",
            "0.25 \t E3\n",
            "0.25 \t F3\n",
            "0.25 \t D4\n",
            "0.5 \t E3\n",
            "0.5 \t C3\n",
            "0.25 \t C4\n",
            "0.25 \t A2\n",
            "0.25 \t B2\n",
            "0.25 \t C3\n",
            "0.25 \t D2\n",
            "0.25 \t C4\n",
            "0.25 \t B3\n",
            "0.25 \t C4\n",
            "0.25 \t D4\n",
            "0.25 \t B3\n",
            "0.25 \t C4\n",
            "0.25 \t A3\n",
            "0.5 \t G#3\n",
            "0.5 \t E3\n",
            "0.25 \t B3\n",
            "0.25 \t D3\n",
            "0.25 \t C3\n",
            "0.25 \t B2\n",
            "0.25 \t C3\n",
            "0.25 \t E3\n",
            "0.25 \t F#3\n",
            "0.25 \t G#3\n",
            "0.25 \t A3\n",
            "0.25 \t C4\n",
            "0.25 \t B3\n",
            "0.25 \t A3\n",
            "0.5 \t D4\n",
            "0.25 \t B2\n",
            "0.25 \t C3\n",
            "0.25 \t D3\n",
            "0.25 \t E3\n",
            "0.25 \t F3\n",
            "0.25 \t A2\n",
            "0.75 \t G#2\n",
            "0.25 \t E3\n",
            "0.25 \t B3\n",
            "0.25 \t D4\n",
            "0.25 \t C4\n",
            "0.25 \t B3\n",
            "0.75 \t A2.E3.C4\n",
            "0.25 \t B3\n",
            "0.25 \t A3\n",
            "0.25 \t G3\n",
            "0.25 \t F3\n",
            "0.25 \t E3\n",
            "0.25 \t F3\n",
            "0.25 \t D3\n",
            "0.25 \t B-3\n",
            "0.25 \t A3\n",
            "0.25 \t B-3\n",
            "0.25 \t C4\n",
            "0.25 \t D4\n",
            "0.25 \t A3\n",
            "0.25 \t G#3\n",
            "0.25 \t A3\n",
            "0.25 \t B3\n",
            "0.25 \t E3\n",
            "0.25 \t F3\n",
            "0.25 \t D3\n",
            "0.25 \t C3\n",
            "0.25 \t B2\n",
            "0.25 \t C3\n",
            "0.25 \t E3\n",
            "0.25 \t A3\n",
            "0.25 \t B3\n",
            "0.75 \t E3.B3\n",
            "0.25 \t E3.A3\n",
            "0.75 \t A2.E3.A3\n",
            "0.25 \t B3\n",
            "0.25 \t C4\n",
            "0.25 \t B3\n",
            "0.25 \t C4\n",
            "0.25 \t G3\n",
            "0.25 \t F#3\n",
            "0.25 \t G3\n",
            "0.25 \t A3\n",
            "0.25 \t E3\n",
            "0.25 \t D3\n",
            "0.25 \t C3\n",
            "0.25 \t B2\n",
            "0.25 \t A2\n",
            "0.25 \t G2\n",
            "0.25 \t D3\n",
            "0.25 \t F#3\n",
            "0.25 \t C4\n",
            "0.25 \t B3\n",
            "0.25 \t A3\n",
            "0.25 \t G3\n",
            "0.25 \t A3\n",
            "0.25 \t B3\n",
            "0.25 \t C4\n",
            "0.25 \t D4\n",
            "0.25 \t E4\n",
            "0.25 \t D4\n",
            "0.25 \t E4\n",
            "0.25 \t F4\n",
            "0.25 \t D4\n",
            "0.5 \t E4\n",
            "0.5 \t G3\n",
            "0.25 \t C3\n",
            "0.25 \t D4\n",
            "0.25 \t C4\n",
            "0.25 \t B3\n",
            "0.25 \t A3\n",
            "0.25 \t B3\n",
            "0.25 \t C4\n",
            "0.25 \t E4\n",
            "0.75 \t D4\n",
            "0.25 \t C4\n",
            "0.5 \t D4\n",
            "0.5 \t A3\n",
            "0.25 \t B2\n",
            "0.25 \t C4\n",
            "0.25 \t B3\n",
            "0.25 \t A3\n",
            "0.25 \t G3\n",
            "0.25 \t F#3\n",
            "0.25 \t E3\n",
            "0.25 \t G3\n",
            "0.25 \t B3\n",
            "0.25 \t D4\n",
            "0.25 \t C4\n",
            "0.25 \t B3\n",
            "0.5 \t C4\n",
            "0.5 \t G3\n",
            "0.25 \t A2\n",
            "0.25 \t E3\n",
            "0.25 \t F#3\n",
            "0.25 \t G3\n",
            "0.25 \t F#3\n",
            "0.25 \t A3\n",
            "0.25 \t B3\n",
            "0.25 \t C4\n",
            "0.25 \t D3\n",
            "0.25 \t C3\n",
            "0.25 \t B2\n",
            "0.25 \t A2\n",
            "0.25 \t G2\n",
            "0.25 \t D3\n",
            "0.25 \t F#3\n",
            "0.25 \t A3\n",
            "0.25 \t C4\n",
            "0.25 \t A3\n",
            "0.25 \t F#3\n",
            "0.25 \t D3\n",
            "0.75 \t G2.D3.B3\n",
            "0.25 \t D3\n",
            "0.25 \t E3\n",
            "0.25 \t G3\n",
            "0.25 \t A3\n",
            "0.25 \t C#4\n",
            "0.25 \t D4\n",
            "0.25 \t A3\n",
            "0.25 \t F#3\n",
            "0.25 \t E3\n",
            "0.25 \t D3\n",
            "0.25 \t F3\n",
            "0.25 \t G3\n",
            "0.25 \t B3\n",
            "0.25 \t C4\n",
            "0.25 \t G3\n",
            "0.25 \t E3\n",
            "0.25 \t D3\n",
            "0.25 \t C3\n",
            "0.25 \t E3\n",
            "0.25 \t A3\n",
            "0.25 \t C4\n",
            "0.25 \t F#3\n",
            "0.25 \t A3\n",
            "0.25 \t C4\n",
            "0.25 \t E4\n",
            "0.75 \t D4\n",
            "0.25 \t C3\n",
            "0.25 \t B2\n",
            "0.25 \t G3\n",
            "0.25 \t A2\n",
            "0.25 \t G2\n",
            "0.25 \t D2\n",
            "0.25 \t A2\n",
            "0.25 \t G3\n",
            "0.25 \t F#3\n",
            "0.25 \t G3\n",
            "0.25 \t G2\n",
            "0.25 \t B2\n",
            "0.25 \t D3\n",
            "0.25 \t G3\n",
            "0.25 \t B3\n",
            "0.25 \t D4\n",
            "0.25 \t F#4\n",
            "0.25 \t G4\n",
            "0.25 \t D4\n",
            "0.25 \t B3\n",
            "0.25 \t G3\n",
            "2/3 \t G2\n"
          ],
          "name": "stdout"
        }
      ]
    },
    {
      "cell_type": "code",
      "metadata": {
        "id": "R7sN-mdUMa_M",
        "colab": {
          "base_uri": "https://localhost:8080/",
          "height": 34
        },
        "outputId": "886f9bac-ba0c-408b-8d34-2f48c50c88eb"
      },
      "source": [
        "import os\n",
        "import pickle\n",
        "import numpy\n",
        "from music21 import note, chord\n",
        "\n",
        "from keras.callbacks import ModelCheckpoint, EarlyStopping\n",
        "from keras.utils import plot_model\n",
        "\n",
        "from models.RNNAttention import get_distinct, create_lookups, prepare_sequences, get_music_list, create_network"
      ],
      "execution_count": null,
      "outputs": [
        {
          "output_type": "stream",
          "text": [
            "Using TensorFlow backend.\n"
          ],
          "name": "stderr"
        }
      ]
    },
    {
      "cell_type": "markdown",
      "metadata": {
        "id": "FZuiwBu6P3mZ"
      },
      "source": [
        "파라미터 설정"
      ]
    },
    {
      "cell_type": "code",
      "metadata": {
        "id": "wM2mEtBtMa9O"
      },
      "source": [
        "# 실행 파라미터\n",
        "section = 'compose'\n",
        "run_id = '0006_1'\n",
        "music_name = 'cello'\n",
        "\n",
        "run_folder = 'run/{}/'.format(section)\n",
        "run_folder += '_'.join([run_id, music_name])\n",
        "\n",
        "\n",
        "store_folder = os.path.join(run_folder, 'store')\n",
        "data_folder = os.path.join('data', music_name)\n",
        "\n",
        "if not os.path.exists(run_folder):\n",
        "    os.mkdir(run_folder)\n",
        "    os.mkdir(os.path.join(run_folder, 'store'))\n",
        "    os.mkdir(os.path.join(run_folder, 'output'))\n",
        "    os.mkdir(os.path.join(run_folder, 'weights'))\n",
        "    os.mkdir(os.path.join(run_folder, 'viz'))\n",
        "\n",
        "\n",
        "\n",
        "mode = 'build' # 'load' #\n",
        "\n",
        "# 데이터 파라미터\n",
        "intervals = range(1)\n",
        "seq_len = 32\n",
        "\n",
        "# 하이퍼퍼라미터\n",
        "embed_size = 100\n",
        "rnn_units = 256\n",
        "use_attention = False"
      ],
      "execution_count": null,
      "outputs": []
    },
    {
      "cell_type": "markdown",
      "metadata": {
        "id": "RoVrnvbMQCcK"
      },
      "source": [
        "악보 추출"
      ]
    },
    {
      "cell_type": "code",
      "metadata": {
        "id": "dI2O2HQSMa6L",
        "colab": {
          "base_uri": "https://localhost:8080/",
          "height": 52
        },
        "outputId": "104b580c-fc30-4a73-8629-05e2e1ab06db"
      },
      "source": [
        "if mode == 'build':\n",
        "\n",
        "    music_list, parser = get_music_list(data_folder)\n",
        "    print(len(music_list), 'files in total')\n",
        "\n",
        "    notes = []\n",
        "    durations = []\n",
        "\n",
        "    for i, file in enumerate(music_list):\n",
        "        print(i+1, \"Parsing %s\" % file)\n",
        "        # 악보데이터 추출, music21 라이브러리를 사용하여 미디 파일 불러와 전처리\n",
        "        original_score = parser.parse(file).chordify()\n",
        "\n",
        "\n",
        "        for interval in intervals:\n",
        "\n",
        "            score = original_score.transpose(interval)\n",
        "\n",
        "            notes.extend(['START'] * seq_len)\n",
        "            durations.extend([0]* seq_len)\n",
        "\n",
        "            for element in score.flat:\n",
        "\n",
        "                if isinstance(element, note.Note):\n",
        "                    if element.isRest:\n",
        "                        notes.append(str(element.name))\n",
        "                        durations.append(element.duration.quarterLength)\n",
        "                    else:\n",
        "                        notes.append(str(element.nameWithOctave))\n",
        "                        durations.append(element.duration.quarterLength)\n",
        "\n",
        "                if isinstance(element, chord.Chord):\n",
        "                    notes.append('.'.join(n.nameWithOctave for n in element.pitches))\n",
        "                    durations.append(element.duration.quarterLength)\n",
        "\n",
        "    with open(os.path.join(store_folder, 'notes'), 'wb') as f:\n",
        "        pickle.dump(notes, f) #['G2', 'D3', 'B3', 'A3', 'B3', 'D3', 'B3', 'D3', 'G2',...]\n",
        "    with open(os.path.join(store_folder, 'durations'), 'wb') as f:\n",
        "        pickle.dump(durations, f)\n",
        "else:\n",
        "    with open(os.path.join(store_folder, 'notes'), 'rb') as f:\n",
        "        notes = pickle.load(f) #['G2', 'D3', 'B3', 'A3', 'B3', 'D3', 'B3', 'D3', 'G2',...]\n",
        "    with open(os.path.join(store_folder, 'durations'), 'rb') as f:\n",
        "        durations = pickle.load(f)"
      ],
      "execution_count": null,
      "outputs": [
        {
          "output_type": "stream",
          "text": [
            "1 files in total\n",
            "1 Parsing data/cello/cs1-2all.mid\n"
          ],
          "name": "stdout"
        }
      ]
    },
    {
      "cell_type": "code",
      "metadata": {
        "id": "1UHMVBs4jJKG",
        "colab": {
          "base_uri": "https://localhost:8080/",
          "height": 615
        },
        "outputId": "b8312cff-a4a5-495b-e67a-46491ff2741b"
      },
      "source": [
        "sorted(set(notes)), len(sorted(set(notes)))"
      ],
      "execution_count": null,
      "outputs": [
        {
          "output_type": "execute_result",
          "data": {
            "text/plain": [
              "(['A2',\n",
              "  'A2.E3.A3',\n",
              "  'A2.E3.C4',\n",
              "  'A3',\n",
              "  'B-3',\n",
              "  'B2',\n",
              "  'B3',\n",
              "  'C#3',\n",
              "  'C#4',\n",
              "  'C3',\n",
              "  'C4',\n",
              "  'D2',\n",
              "  'D3',\n",
              "  'D3.A3',\n",
              "  'D4',\n",
              "  'E-3',\n",
              "  'E2',\n",
              "  'E3',\n",
              "  'E3.A3',\n",
              "  'E3.B3',\n",
              "  'E4',\n",
              "  'F#2',\n",
              "  'F#3',\n",
              "  'F#4',\n",
              "  'F3',\n",
              "  'F4',\n",
              "  'G#2',\n",
              "  'G#3',\n",
              "  'G2',\n",
              "  'G2.D3.B3',\n",
              "  'G3',\n",
              "  'G4',\n",
              "  'START'],\n",
              " 33)"
            ]
          },
          "metadata": {
            "tags": []
          },
          "execution_count": 15
        }
      ]
    },
    {
      "cell_type": "markdown",
      "metadata": {
        "id": "2DhqlHuXQKxF"
      },
      "source": [
        "<h>룩업 테이블 만들기</h1><br>\n",
        "- 모델 훈련을 위한 데이터셋을 만들기 위해 피치와 박자를 정숫값으로 변환"
      ]
    },
    {
      "cell_type": "code",
      "metadata": {
        "id": "UgE53JcHMa3z"
      },
      "source": [
        "# 고유한 음표와 박자 얻어오기\n",
        "note_names, n_notes = get_distinct(notes)\n",
        "# get_distinct안의 sorted(set())을 사용하여 중복을 제외한 값들과 길이 리턴\n",
        "duration_names, n_durations = get_distinct(durations)\n",
        "distincts = [note_names, n_notes, duration_names, n_durations]\n",
        "\n",
        "with open(os.path.join(store_folder, 'distincts'), 'wb') as f:\n",
        "    # 일반 텍스트 이외의 자료형을 파일로 저장하기 위하여 pickle이라는 모듈을 사용\n",
        "    pickle.dump(distincts, f)\n",
        "\n",
        "\n",
        "# 음표와 박자 룩업 딕셔너리 만들고 저장하기\n",
        "note_to_int, int_to_note = create_lookups(note_names)\n",
        "duration_to_int, int_to_duration = create_lookups(duration_names)\n",
        "lookups = [note_to_int, int_to_note, duration_to_int, int_to_duration]\n",
        "\n",
        "with open(os.path.join(store_folder, 'lookups'), 'wb') as f:\n",
        "    pickle.dump(lookups, f)"
      ],
      "execution_count": null,
      "outputs": []
    },
    {
      "cell_type": "code",
      "metadata": {
        "id": "Fa5Bp7_GMa1N",
        "colab": {
          "base_uri": "https://localhost:8080/",
          "height": 633
        },
        "outputId": "068ea109-626c-4241-bbb3-546c6006754c"
      },
      "source": [
        "print('\\nnote_to_int')\n",
        "note_to_int"
      ],
      "execution_count": null,
      "outputs": [
        {
          "output_type": "stream",
          "text": [
            "\n",
            "note_to_int\n"
          ],
          "name": "stdout"
        },
        {
          "output_type": "execute_result",
          "data": {
            "text/plain": [
              "{'A2': 0,\n",
              " 'A2.E3.A3': 1,\n",
              " 'A2.E3.C4': 2,\n",
              " 'A3': 3,\n",
              " 'B-3': 4,\n",
              " 'B2': 5,\n",
              " 'B3': 6,\n",
              " 'C#3': 7,\n",
              " 'C#4': 8,\n",
              " 'C3': 9,\n",
              " 'C4': 10,\n",
              " 'D2': 11,\n",
              " 'D3': 12,\n",
              " 'D3.A3': 13,\n",
              " 'D4': 14,\n",
              " 'E-3': 15,\n",
              " 'E2': 16,\n",
              " 'E3': 17,\n",
              " 'E3.A3': 18,\n",
              " 'E3.B3': 19,\n",
              " 'E4': 20,\n",
              " 'F#2': 21,\n",
              " 'F#3': 22,\n",
              " 'F#4': 23,\n",
              " 'F3': 24,\n",
              " 'F4': 25,\n",
              " 'G#2': 26,\n",
              " 'G#3': 27,\n",
              " 'G2': 28,\n",
              " 'G2.D3.B3': 29,\n",
              " 'G3': 30,\n",
              " 'G4': 31,\n",
              " 'START': 32}"
            ]
          },
          "metadata": {
            "tags": []
          },
          "execution_count": 17
        }
      ]
    },
    {
      "cell_type": "code",
      "metadata": {
        "id": "bhLXfPKrMay0",
        "colab": {
          "base_uri": "https://localhost:8080/",
          "height": 70
        },
        "outputId": "dd0fe451-7b68-4fa5-b9d8-4a523b8b00c1"
      },
      "source": [
        "print('\\nduration_to_int')\n",
        "duration_to_int"
      ],
      "execution_count": null,
      "outputs": [
        {
          "output_type": "stream",
          "text": [
            "\n",
            "duration_to_int\n"
          ],
          "name": "stdout"
        },
        {
          "output_type": "execute_result",
          "data": {
            "text/plain": [
              "{0: 0, 0.25: 1, 0.5: 2, Fraction(2, 3): 3, 0.75: 4, 1.0: 5, 1.25: 6}"
            ]
          },
          "metadata": {
            "tags": []
          },
          "execution_count": 18
        }
      ]
    },
    {
      "cell_type": "code",
      "metadata": {
        "id": "91VsdG2zS0zo",
        "colab": {
          "base_uri": "https://localhost:8080/",
          "height": 580
        },
        "outputId": "937080da-0576-4626-ea89-63cdae249126"
      },
      "source": [
        "notes[10:10 + seq_len]"
      ],
      "execution_count": null,
      "outputs": [
        {
          "output_type": "execute_result",
          "data": {
            "text/plain": [
              "['START',\n",
              " 'START',\n",
              " 'START',\n",
              " 'START',\n",
              " 'START',\n",
              " 'START',\n",
              " 'START',\n",
              " 'START',\n",
              " 'START',\n",
              " 'START',\n",
              " 'START',\n",
              " 'START',\n",
              " 'START',\n",
              " 'START',\n",
              " 'START',\n",
              " 'START',\n",
              " 'START',\n",
              " 'START',\n",
              " 'START',\n",
              " 'START',\n",
              " 'START',\n",
              " 'START',\n",
              " 'B3',\n",
              " 'G2.D3.B3',\n",
              " 'B3',\n",
              " 'A3',\n",
              " 'G3',\n",
              " 'F#3',\n",
              " 'G3',\n",
              " 'D3',\n",
              " 'E3',\n",
              " 'F#3']"
            ]
          },
          "metadata": {
            "tags": []
          },
          "execution_count": 19
        }
      ]
    },
    {
      "cell_type": "code",
      "metadata": {
        "id": "cSqx_GjWURLz"
      },
      "source": [],
      "execution_count": null,
      "outputs": []
    },
    {
      "cell_type": "code",
      "metadata": {
        "id": "WWK6wqUuUIYa",
        "colab": {
          "base_uri": "https://localhost:8080/",
          "height": 35
        },
        "outputId": "6207454a-b7e5-4638-edc0-25bdef3bd43f"
      },
      "source": [
        "notes[10 + seq_len]"
      ],
      "execution_count": null,
      "outputs": [
        {
          "output_type": "execute_result",
          "data": {
            "application/vnd.google.colaboratory.intrinsic": {
              "type": "string"
            },
            "text/plain": [
              "'G3'"
            ]
          },
          "metadata": {
            "tags": []
          },
          "execution_count": 20
        }
      ]
    },
    {
      "cell_type": "code",
      "metadata": {
        "id": "-A72xONJR5qk",
        "colab": {
          "base_uri": "https://localhost:8080/",
          "height": 34
        },
        "outputId": "a009ee29-192c-4386-8f07-635fbb4cf68d"
      },
      "source": [
        "len(notes)-seq_len"
      ],
      "execution_count": null,
      "outputs": [
        {
          "output_type": "execute_result",
          "data": {
            "text/plain": [
              "916"
            ]
          },
          "metadata": {
            "tags": []
          },
          "execution_count": 21
        }
      ]
    },
    {
      "cell_type": "markdown",
      "metadata": {
        "id": "rbgs8s9-Qi-1"
      },
      "source": [
        "신경망에 사용할 시퀀스 준비하기"
      ]
    },
    {
      "cell_type": "code",
      "metadata": {
        "id": "99illfFSMawR"
      },
      "source": [
        "#\n",
        "network_input, network_output = prepare_sequences(notes, durations, lookups, distincts, seq_len)"
      ],
      "execution_count": null,
      "outputs": []
    },
    {
      "cell_type": "code",
      "metadata": {
        "id": "-DQpnAzBMat0",
        "colab": {
          "base_uri": "https://localhost:8080/",
          "height": 193
        },
        "outputId": "dfbb3ac1-5e7f-4bf1-d6a0-2aa692eaaeec"
      },
      "source": [
        "print('pitch input')\n",
        "print(network_input[0][10])\n",
        "print('duration input')\n",
        "print(network_input[1][10])\n",
        "print('pitch output')\n",
        "print(network_output[0][10])\n",
        "print('duration output')\n",
        "print(network_output[1][10])"
      ],
      "execution_count": null,
      "outputs": [
        {
          "output_type": "stream",
          "text": [
            "pitch input\n",
            "[32 32 32 32 32 32 32 32 32 32 32 32 32 32 32 32 32 32 32 32 32 32  6 29\n",
            "  6  3 30 22 30 12 17 22]\n",
            "duration input\n",
            "[0 0 0 0 0 0 0 0 0 0 0 0 0 0 0 0 0 0 0 0 0 0 1 5 1 1 1 1 1 1 1 1]\n",
            "pitch output\n",
            "[0. 0. 0. 0. 0. 0. 0. 0. 0. 0. 0. 0. 0. 0. 0. 0. 0. 0. 0. 0. 0. 0. 0. 0.\n",
            " 0. 0. 0. 0. 0. 0. 1. 0. 0.]\n",
            "duration output\n",
            "[0. 1. 0. 0. 0. 0. 0.]\n"
          ],
          "name": "stdout"
        }
      ]
    },
    {
      "cell_type": "code",
      "metadata": {
        "id": "8XGo2aQttk5b",
        "colab": {
          "base_uri": "https://localhost:8080/",
          "height": 34
        },
        "outputId": "56935b9c-4295-404c-b757-292dbe81de23"
      },
      "source": [
        "n_notes, n_durations"
      ],
      "execution_count": null,
      "outputs": [
        {
          "output_type": "execute_result",
          "data": {
            "text/plain": [
              "(33, 7)"
            ]
          },
          "metadata": {
            "tags": []
          },
          "execution_count": 24
        }
      ]
    },
    {
      "cell_type": "markdown",
      "metadata": {
        "id": "LTnlyK6dQpH_"
      },
      "source": [
        "신경망 만들기"
      ]
    },
    {
      "cell_type": "code",
      "metadata": {
        "id": "KspfV3BxMard",
        "colab": {
          "base_uri": "https://localhost:8080/",
          "height": 492
        },
        "outputId": "baa40447-f75f-4f88-ac4d-fabcaf0b1519"
      },
      "source": [
        "model, att_model = create_network(n_notes, n_durations, embed_size, rnn_units, use_attention)\n",
        "model.summary()"
      ],
      "execution_count": null,
      "outputs": [
        {
          "output_type": "stream",
          "text": [
            "Model: \"model_1\"\n",
            "__________________________________________________________________________________________________\n",
            "Layer (type)                    Output Shape         Param #     Connected to                     \n",
            "==================================================================================================\n",
            "input_1 (InputLayer)            (None, None)         0                                            \n",
            "__________________________________________________________________________________________________\n",
            "input_2 (InputLayer)            (None, None)         0                                            \n",
            "__________________________________________________________________________________________________\n",
            "embedding_1 (Embedding)         (None, None, 100)    3300        input_1[0][0]                    \n",
            "__________________________________________________________________________________________________\n",
            "embedding_2 (Embedding)         (None, None, 100)    700         input_2[0][0]                    \n",
            "__________________________________________________________________________________________________\n",
            "concatenate_1 (Concatenate)     (None, None, 200)    0           embedding_1[0][0]                \n",
            "                                                                 embedding_2[0][0]                \n",
            "__________________________________________________________________________________________________\n",
            "lstm_1 (LSTM)                   (None, None, 256)    467968      concatenate_1[0][0]              \n",
            "__________________________________________________________________________________________________\n",
            "lstm_2 (LSTM)                   (None, 256)          525312      lstm_1[0][0]                     \n",
            "__________________________________________________________________________________________________\n",
            "pitch (Dense)                   (None, 33)           8481        lstm_2[0][0]                     \n",
            "__________________________________________________________________________________________________\n",
            "duration (Dense)                (None, 7)            1799        lstm_2[0][0]                     \n",
            "==================================================================================================\n",
            "Total params: 1,007,560\n",
            "Trainable params: 1,007,560\n",
            "Non-trainable params: 0\n",
            "__________________________________________________________________________________________________\n"
          ],
          "name": "stdout"
        }
      ]
    },
    {
      "cell_type": "code",
      "metadata": {
        "id": "uSH2RJtLMagW",
        "colab": {
          "base_uri": "https://localhost:8080/",
          "height": 587
        },
        "outputId": "f04b3f36-6c78-4c5c-e398-3e2cb2cebe05"
      },
      "source": [
        "plot_model(model, to_file=os.path.join(run_folder ,'viz/model.png'), show_shapes = True, show_layer_names = True)"
      ],
      "execution_count": null,
      "outputs": [
        {
          "output_type": "execute_result",
          "data": {
            "image/png": "[encoded data removed]",
            "text/plain": [
              "<IPython.core.display.Image object>"
            ]
          },
          "metadata": {
            "tags": []
          },
          "execution_count": 27
        }
      ]
    },
    {
      "cell_type": "markdown",
      "metadata": {
        "id": "Cc90vcwEQv0Q"
      },
      "source": [
        "신경망 훈련하기"
      ]
    },
    {
      "cell_type": "code",
      "metadata": {
        "id": "TNETf0j3Madp"
      },
      "source": [
        "weights_folder = os.path.join(run_folder, 'weights')\n",
        "# model.load_weights(os.path.join(weights_folder, \"weights.h5\"))"
      ],
      "execution_count": null,
      "outputs": []
    },
    {
      "cell_type": "code",
      "metadata": {
        "id": "FaGkSzDxQ2VP",
        "colab": {
          "base_uri": "https://localhost:8080/",
          "height": 1000
        },
        "outputId": "d769a14b-852e-455b-c8ec-13141b7bbef0"
      },
      "source": [
        "# 어텐션을 사용\n",
        "weights_folder = os.path.join(run_folder, 'weights')\n",
        "\n",
        "checkpoint1 = ModelCheckpoint(\n",
        "    os.path.join(weights_folder, \"weights-improvement-{epoch:02d}-{loss:.4f}-bigger.h5\"),\n",
        "    monitor='loss',\n",
        "    verbose=0,\n",
        "    save_best_only=True,\n",
        "    mode='min'\n",
        ")\n",
        "\n",
        "# monitor : 관찰하고자 하는 항목(val_loss나 val_acc가 주로 사용)\n",
        "# patience : 개선이 없다고 바로 종료하지 않고 개선이 없는 에포크를 얼마나 기다려 줄 것인지 가를 지정함\n",
        "# 만약 10 에폭이라고 지정하면 개선이 없는 에포크가 10번째 지속될 경우 학습일 종료\n",
        "checkpoint2 = ModelCheckpoint(\n",
        "    os.path.join(weights_folder, \"weights.h5\"),\n",
        "    monitor='loss',\n",
        "    verbose=0,\n",
        "    save_best_only=True,\n",
        "    mode='min'\n",
        ")\n",
        "\n",
        "early_stopping = EarlyStopping(\n",
        "    monitor='loss'\n",
        "    , restore_best_weights=True\n",
        "    , patience = 10\n",
        ")\n",
        "\n",
        "callbacks_list = [\n",
        "    checkpoint1\n",
        "    , checkpoint2\n",
        "    , early_stopping\n",
        " ]\n",
        "\n",
        "model.save_weights(os.path.join(weights_folder, \"weights.h5\"))\n",
        "model.fit(network_input, network_output\n",
        "          , epochs=2000000, batch_size=32\n",
        "          , validation_split = 0.2\n",
        "          , callbacks=callbacks_list\n",
        "          , shuffle=True\n",
        "         )"
      ],
      "execution_count": null,
      "outputs": [
        {
          "output_type": "stream",
          "text": [
            "/usr/local/lib/python3.6/dist-packages/tensorflow/python/framework/indexed_slices.py:434: UserWarning: Converting sparse IndexedSlices to a dense Tensor of unknown shape. This may consume a large amount of memory.\n",
            "  \"Converting sparse IndexedSlices to a dense Tensor of unknown shape. \"\n"
          ],
          "name": "stderr"
        },
        {
          "output_type": "stream",
          "text": [
            "Train on 732 samples, validate on 184 samples\n",
            "Epoch 1/2000000\n",
            "732/732 [==============================] - 7s 10ms/step - loss: 3.4193 - pitch_loss: 2.9686 - duration_loss: 0.4543 - val_loss: 3.4355 - val_pitch_loss: 3.0125 - val_duration_loss: 0.4259\n",
            "Epoch 2/2000000\n",
            "732/732 [==============================] - 5s 6ms/step - loss: 3.1436 - pitch_loss: 2.8254 - duration_loss: 0.3159 - val_loss: 3.3974 - val_pitch_loss: 2.9769 - val_duration_loss: 0.4306\n",
            "Epoch 3/2000000\n",
            "732/732 [==============================] - 5s 6ms/step - loss: 3.1548 - pitch_loss: 2.8191 - duration_loss: 0.3358 - val_loss: 3.3480 - val_pitch_loss: 2.9400 - val_duration_loss: 0.4158\n",
            "Epoch 4/2000000\n",
            "732/732 [==============================] - 5s 6ms/step - loss: 3.1673 - pitch_loss: 2.8121 - duration_loss: 0.3543 - val_loss: 3.3082 - val_pitch_loss: 2.9205 - val_duration_loss: 0.4007\n",
            "Epoch 5/2000000\n",
            "732/732 [==============================] - 5s 6ms/step - loss: 3.0646 - pitch_loss: 2.7536 - duration_loss: 0.3115 - val_loss: 3.2696 - val_pitch_loss: 2.8997 - val_duration_loss: 0.3892\n",
            "Epoch 6/2000000\n",
            "732/732 [==============================] - 5s 6ms/step - loss: 3.0258 - pitch_loss: 2.7129 - duration_loss: 0.3121 - val_loss: 3.2306 - val_pitch_loss: 2.8518 - val_duration_loss: 0.3918\n",
            "Epoch 7/2000000\n",
            "732/732 [==============================] - 5s 6ms/step - loss: 2.9743 - pitch_loss: 2.6692 - duration_loss: 0.3053 - val_loss: 3.1735 - val_pitch_loss: 2.8161 - val_duration_loss: 0.3791\n",
            "Epoch 8/2000000\n",
            "732/732 [==============================] - 5s 6ms/step - loss: 2.8881 - pitch_loss: 2.5900 - duration_loss: 0.3013 - val_loss: 3.1135 - val_pitch_loss: 2.7559 - val_duration_loss: 0.3790\n",
            "Epoch 9/2000000\n",
            "732/732 [==============================] - 5s 6ms/step - loss: 2.8019 - pitch_loss: 2.5108 - duration_loss: 0.2907 - val_loss: 3.0093 - val_pitch_loss: 2.6675 - val_duration_loss: 0.3635\n",
            "Epoch 10/2000000\n",
            "732/732 [==============================] - 5s 6ms/step - loss: 2.7146 - pitch_loss: 2.4302 - duration_loss: 0.2898 - val_loss: 2.9196 - val_pitch_loss: 2.5863 - val_duration_loss: 0.3586\n",
            "Epoch 11/2000000\n",
            "732/732 [==============================] - 5s 6ms/step - loss: 2.6021 - pitch_loss: 2.3310 - duration_loss: 0.2705 - val_loss: 2.8918 - val_pitch_loss: 2.5780 - val_duration_loss: 0.3444\n",
            "Epoch 12/2000000\n",
            "732/732 [==============================] - 5s 6ms/step - loss: 2.5029 - pitch_loss: 2.2503 - duration_loss: 0.2544 - val_loss: 2.8126 - val_pitch_loss: 2.5077 - val_duration_loss: 0.3403\n",
            "Epoch 13/2000000\n",
            "732/732 [==============================] - 5s 6ms/step - loss: 2.4174 - pitch_loss: 2.1656 - duration_loss: 0.2511 - val_loss: 2.6205 - val_pitch_loss: 2.3448 - val_duration_loss: 0.3052\n",
            "Epoch 14/2000000\n",
            "732/732 [==============================] - 5s 6ms/step - loss: 2.2937 - pitch_loss: 2.0539 - duration_loss: 0.2384 - val_loss: 2.6094 - val_pitch_loss: 2.3313 - val_duration_loss: 0.3079\n",
            "Epoch 15/2000000\n",
            "732/732 [==============================] - 5s 6ms/step - loss: 2.1666 - pitch_loss: 1.9492 - duration_loss: 0.2174 - val_loss: 2.4961 - val_pitch_loss: 2.2754 - val_duration_loss: 0.2529\n",
            "Epoch 16/2000000\n",
            "732/732 [==============================] - 5s 6ms/step - loss: 2.0243 - pitch_loss: 1.8262 - duration_loss: 0.2012 - val_loss: 2.3332 - val_pitch_loss: 2.1084 - val_duration_loss: 0.2526\n",
            "Epoch 17/2000000\n",
            "732/732 [==============================] - 5s 6ms/step - loss: 1.9091 - pitch_loss: 1.7220 - duration_loss: 0.1874 - val_loss: 2.1934 - val_pitch_loss: 1.9890 - val_duration_loss: 0.2304\n",
            "Epoch 18/2000000\n",
            "732/732 [==============================] - 5s 6ms/step - loss: 1.7609 - pitch_loss: 1.5914 - duration_loss: 0.1694 - val_loss: 2.0440 - val_pitch_loss: 1.8559 - val_duration_loss: 0.2075\n",
            "Epoch 19/2000000\n",
            "732/732 [==============================] - 5s 6ms/step - loss: 1.6178 - pitch_loss: 1.4598 - duration_loss: 0.1568 - val_loss: 1.8984 - val_pitch_loss: 1.7409 - val_duration_loss: 0.1748\n",
            "Epoch 20/2000000\n",
            "732/732 [==============================] - 5s 6ms/step - loss: 1.4814 - pitch_loss: 1.3419 - duration_loss: 0.1393 - val_loss: 1.7896 - val_pitch_loss: 1.6456 - val_duration_loss: 0.1617\n",
            "Epoch 21/2000000\n",
            "732/732 [==============================] - 5s 6ms/step - loss: 1.3406 - pitch_loss: 1.2116 - duration_loss: 0.1287 - val_loss: 1.6762 - val_pitch_loss: 1.5476 - val_duration_loss: 0.1471\n",
            "Epoch 22/2000000\n",
            "732/732 [==============================] - 5s 6ms/step - loss: 1.2239 - pitch_loss: 1.1066 - duration_loss: 0.1173 - val_loss: 1.5402 - val_pitch_loss: 1.4162 - val_duration_loss: 0.1405\n",
            "Epoch 23/2000000\n",
            "732/732 [==============================] - 5s 6ms/step - loss: 1.1176 - pitch_loss: 1.0134 - duration_loss: 0.1068 - val_loss: 1.4385 - val_pitch_loss: 1.2847 - val_duration_loss: 0.1641\n",
            "Epoch 24/2000000\n",
            "732/732 [==============================] - 5s 6ms/step - loss: 0.9918 - pitch_loss: 0.8949 - duration_loss: 0.0979 - val_loss: 1.3503 - val_pitch_loss: 1.2079 - val_duration_loss: 0.1516\n",
            "Epoch 25/2000000\n",
            "732/732 [==============================] - 5s 6ms/step - loss: 0.8762 - pitch_loss: 0.7908 - duration_loss: 0.0857 - val_loss: 1.1127 - val_pitch_loss: 1.0095 - val_duration_loss: 0.1155\n",
            "Epoch 26/2000000\n",
            "732/732 [==============================] - 5s 6ms/step - loss: 0.7901 - pitch_loss: 0.7123 - duration_loss: 0.0785 - val_loss: 1.0312 - val_pitch_loss: 0.9338 - val_duration_loss: 0.1030\n",
            "Epoch 27/2000000\n",
            "732/732 [==============================] - 5s 6ms/step - loss: 0.6800 - pitch_loss: 0.6141 - duration_loss: 0.0663 - val_loss: 0.8821 - val_pitch_loss: 0.8061 - val_duration_loss: 0.0845\n",
            "Epoch 28/2000000\n",
            "732/732 [==============================] - 5s 6ms/step - loss: 0.5978 - pitch_loss: 0.5431 - duration_loss: 0.0558 - val_loss: 0.7918 - val_pitch_loss: 0.7245 - val_duration_loss: 0.0737\n",
            "Epoch 29/2000000\n",
            "732/732 [==============================] - 5s 6ms/step - loss: 0.5192 - pitch_loss: 0.4691 - duration_loss: 0.0499 - val_loss: 0.6412 - val_pitch_loss: 0.5766 - val_duration_loss: 0.0698\n",
            "Epoch 30/2000000\n",
            "732/732 [==============================] - 5s 6ms/step - loss: 0.4680 - pitch_loss: 0.4120 - duration_loss: 0.0567 - val_loss: 0.6314 - val_pitch_loss: 0.5635 - val_duration_loss: 0.0741\n",
            "Epoch 31/2000000\n",
            "732/732 [==============================] - 5s 6ms/step - loss: 0.3806 - pitch_loss: 0.3388 - duration_loss: 0.0415 - val_loss: 0.5617 - val_pitch_loss: 0.5021 - val_duration_loss: 0.0630\n",
            "Epoch 32/2000000\n",
            "732/732 [==============================] - 5s 6ms/step - loss: 0.3494 - pitch_loss: 0.3111 - duration_loss: 0.0387 - val_loss: 0.4866 - val_pitch_loss: 0.4118 - val_duration_loss: 0.0782\n",
            "Epoch 33/2000000\n",
            "732/732 [==============================] - 5s 6ms/step - loss: 0.2955 - pitch_loss: 0.2618 - duration_loss: 0.0338 - val_loss: 0.4957 - val_pitch_loss: 0.4243 - val_duration_loss: 0.0759\n",
            "Epoch 34/2000000\n",
            "732/732 [==============================] - 5s 6ms/step - loss: 0.2390 - pitch_loss: 0.2161 - duration_loss: 0.0224 - val_loss: 0.3569 - val_pitch_loss: 0.3093 - val_duration_loss: 0.0624\n",
            "Epoch 35/2000000\n",
            "732/732 [==============================] - 5s 6ms/step - loss: 0.2057 - pitch_loss: 0.1806 - duration_loss: 0.0251 - val_loss: 0.3999 - val_pitch_loss: 0.3114 - val_duration_loss: 0.0917\n",
            "Epoch 36/2000000\n",
            "732/732 [==============================] - 5s 6ms/step - loss: 0.1964 - pitch_loss: 0.1735 - duration_loss: 0.0226 - val_loss: 0.2636 - val_pitch_loss: 0.2304 - val_duration_loss: 0.0368\n",
            "Epoch 37/2000000\n",
            "732/732 [==============================] - 5s 6ms/step - loss: 0.1440 - pitch_loss: 0.1267 - duration_loss: 0.0179 - val_loss: 0.3055 - val_pitch_loss: 0.2637 - val_duration_loss: 0.0426\n",
            "Epoch 38/2000000\n",
            "732/732 [==============================] - 5s 6ms/step - loss: 0.1405 - pitch_loss: 0.1239 - duration_loss: 0.0170 - val_loss: 0.2341 - val_pitch_loss: 0.2047 - val_duration_loss: 0.0402\n",
            "Epoch 39/2000000\n",
            "732/732 [==============================] - 5s 6ms/step - loss: 0.0951 - pitch_loss: 0.0799 - duration_loss: 0.0152 - val_loss: 0.1777 - val_pitch_loss: 0.1426 - val_duration_loss: 0.0361\n",
            "Epoch 40/2000000\n",
            "732/732 [==============================] - 5s 6ms/step - loss: 0.0860 - pitch_loss: 0.0789 - duration_loss: 0.0069 - val_loss: 0.1343 - val_pitch_loss: 0.1123 - val_duration_loss: 0.0260\n",
            "Epoch 41/2000000\n",
            "732/732 [==============================] - 5s 6ms/step - loss: 0.0976 - pitch_loss: 0.0802 - duration_loss: 0.0181 - val_loss: 0.2587 - val_pitch_loss: 0.1888 - val_duration_loss: 0.0712\n",
            "Epoch 42/2000000\n",
            "732/732 [==============================] - 5s 6ms/step - loss: 0.0709 - pitch_loss: 0.0611 - duration_loss: 0.0100 - val_loss: 0.0739 - val_pitch_loss: 0.0596 - val_duration_loss: 0.0157\n",
            "Epoch 43/2000000\n",
            "732/732 [==============================] - 5s 6ms/step - loss: 0.0422 - pitch_loss: 0.0346 - duration_loss: 0.0081 - val_loss: 0.1480 - val_pitch_loss: 0.0934 - val_duration_loss: 0.0507\n",
            "Epoch 44/2000000\n",
            "732/732 [==============================] - 5s 6ms/step - loss: 0.0564 - pitch_loss: 0.0503 - duration_loss: 0.0062 - val_loss: 0.0669 - val_pitch_loss: 0.0401 - val_duration_loss: 0.0258\n",
            "Epoch 45/2000000\n",
            "732/732 [==============================] - 5s 7ms/step - loss: 0.0261 - pitch_loss: 0.0234 - duration_loss: 0.0027 - val_loss: 0.0294 - val_pitch_loss: 0.0257 - val_duration_loss: 0.0037\n",
            "Epoch 46/2000000\n",
            "732/732 [==============================] - 5s 6ms/step - loss: 0.0572 - pitch_loss: 0.0533 - duration_loss: 0.0036 - val_loss: 0.0255 - val_pitch_loss: 0.0212 - val_duration_loss: 0.0059\n",
            "Epoch 47/2000000\n",
            "732/732 [==============================] - 5s 6ms/step - loss: 0.0392 - pitch_loss: 0.0368 - duration_loss: 0.0026 - val_loss: 0.0597 - val_pitch_loss: 0.0436 - val_duration_loss: 0.0241\n",
            "Epoch 48/2000000\n",
            "732/732 [==============================] - 5s 6ms/step - loss: 0.0304 - pitch_loss: 0.0240 - duration_loss: 0.0062 - val_loss: 0.0154 - val_pitch_loss: 0.0126 - val_duration_loss: 0.0032\n",
            "Epoch 49/2000000\n",
            "732/732 [==============================] - 5s 6ms/step - loss: 0.0203 - pitch_loss: 0.0148 - duration_loss: 0.0053 - val_loss: 0.0559 - val_pitch_loss: 0.0184 - val_duration_loss: 0.0359\n",
            "Epoch 50/2000000\n",
            "732/732 [==============================] - 5s 6ms/step - loss: 0.0504 - pitch_loss: 0.0289 - duration_loss: 0.0222 - val_loss: 0.3002 - val_pitch_loss: 0.2269 - val_duration_loss: 0.0629\n",
            "Epoch 51/2000000\n",
            "732/732 [==============================] - 5s 6ms/step - loss: 0.0359 - pitch_loss: 0.0332 - duration_loss: 0.0025 - val_loss: 0.0110 - val_pitch_loss: 0.0086 - val_duration_loss: 0.0024\n",
            "Epoch 52/2000000\n",
            "732/732 [==============================] - 5s 6ms/step - loss: 0.0103 - pitch_loss: 0.0093 - duration_loss: 9.7520e-04 - val_loss: 0.0076 - val_pitch_loss: 0.0062 - val_duration_loss: 0.0014\n",
            "Epoch 53/2000000\n",
            "732/732 [==============================] - 5s 6ms/step - loss: 0.0201 - pitch_loss: 0.0191 - duration_loss: 0.0010 - val_loss: 0.0090 - val_pitch_loss: 0.0072 - val_duration_loss: 0.0019\n",
            "Epoch 54/2000000\n",
            "732/732 [==============================] - 4s 6ms/step - loss: 0.0195 - pitch_loss: 0.0182 - duration_loss: 0.0012 - val_loss: 0.0085 - val_pitch_loss: 0.0074 - val_duration_loss: 0.0012\n",
            "Epoch 55/2000000\n",
            "732/732 [==============================] - 5s 6ms/step - loss: 0.0467 - pitch_loss: 0.0456 - duration_loss: 0.0012 - val_loss: 0.0071 - val_pitch_loss: 0.0060 - val_duration_loss: 0.0012\n",
            "Epoch 56/2000000\n",
            "732/732 [==============================] - 5s 6ms/step - loss: 0.0244 - pitch_loss: 0.0195 - duration_loss: 0.0048 - val_loss: 0.0049 - val_pitch_loss: 0.0041 - val_duration_loss: 8.2425e-04\n",
            "Epoch 57/2000000\n",
            "732/732 [==============================] - 5s 6ms/step - loss: 0.0063 - pitch_loss: 0.0058 - duration_loss: 4.6788e-04 - val_loss: 0.0036 - val_pitch_loss: 0.0030 - val_duration_loss: 5.9752e-04\n",
            "Epoch 58/2000000\n",
            "732/732 [==============================] - 5s 6ms/step - loss: 0.0072 - pitch_loss: 0.0068 - duration_loss: 3.3673e-04 - val_loss: 0.0038 - val_pitch_loss: 0.0031 - val_duration_loss: 7.3728e-04\n",
            "Epoch 59/2000000\n",
            "732/732 [==============================] - 5s 6ms/step - loss: 0.0118 - pitch_loss: 0.0101 - duration_loss: 0.0017 - val_loss: 0.0681 - val_pitch_loss: 0.0629 - val_duration_loss: 0.0029\n",
            "Epoch 60/2000000\n",
            "732/732 [==============================] - 5s 6ms/step - loss: 0.0621 - pitch_loss: 0.0598 - duration_loss: 0.0032 - val_loss: 0.0342 - val_pitch_loss: 0.0200 - val_duration_loss: 0.0132\n",
            "Epoch 61/2000000\n",
            "732/732 [==============================] - 5s 6ms/step - loss: 0.0164 - pitch_loss: 0.0149 - duration_loss: 0.0015 - val_loss: 0.0042 - val_pitch_loss: 0.0036 - val_duration_loss: 6.4559e-04\n",
            "Epoch 62/2000000\n",
            "732/732 [==============================] - 4s 6ms/step - loss: 0.0108 - pitch_loss: 0.0105 - duration_loss: 2.8712e-04 - val_loss: 0.0034 - val_pitch_loss: 0.0032 - val_duration_loss: 3.7179e-04\n",
            "Epoch 63/2000000\n",
            "732/732 [==============================] - 5s 6ms/step - loss: 0.0055 - pitch_loss: 0.0053 - duration_loss: 1.7716e-04 - val_loss: 0.0024 - val_pitch_loss: 0.0022 - val_duration_loss: 2.8661e-04\n",
            "Epoch 64/2000000\n",
            "732/732 [==============================] - 5s 6ms/step - loss: 0.0055 - pitch_loss: 0.0054 - duration_loss: 1.4471e-04 - val_loss: 0.0032 - val_pitch_loss: 0.0029 - val_duration_loss: 2.7454e-04\n",
            "Epoch 65/2000000\n",
            "732/732 [==============================] - 5s 6ms/step - loss: 0.0199 - pitch_loss: 0.0193 - duration_loss: 5.5691e-04 - val_loss: 0.0381 - val_pitch_loss: 0.0344 - val_duration_loss: 0.0023\n",
            "Epoch 66/2000000\n",
            "732/732 [==============================] - 5s 6ms/step - loss: 0.0070 - pitch_loss: 0.0066 - duration_loss: 3.1161e-04 - val_loss: 0.0016 - val_pitch_loss: 0.0014 - val_duration_loss: 1.9477e-04\n",
            "Epoch 67/2000000\n",
            "732/732 [==============================] - 5s 6ms/step - loss: 0.0053 - pitch_loss: 0.0052 - duration_loss: 1.0494e-04 - val_loss: 0.0012 - val_pitch_loss: 0.0010 - val_duration_loss: 1.4214e-04\n",
            "Epoch 68/2000000\n",
            "732/732 [==============================] - 5s 6ms/step - loss: 0.0052 - pitch_loss: 0.0051 - duration_loss: 9.4390e-05 - val_loss: 9.2598e-04 - val_pitch_loss: 8.1061e-04 - val_duration_loss: 1.0872e-04\n",
            "Epoch 69/2000000\n",
            "732/732 [==============================] - 4s 6ms/step - loss: 0.0069 - pitch_loss: 0.0068 - duration_loss: 6.4773e-05 - val_loss: 0.0015 - val_pitch_loss: 0.0014 - val_duration_loss: 1.5156e-04\n",
            "Epoch 70/2000000\n",
            "732/732 [==============================] - 5s 6ms/step - loss: 0.0108 - pitch_loss: 0.0106 - duration_loss: 1.4627e-04 - val_loss: 8.7135e-04 - val_pitch_loss: 7.7130e-04 - val_duration_loss: 9.5829e-05\n",
            "Epoch 71/2000000\n",
            "732/732 [==============================] - 5s 6ms/step - loss: 0.0049 - pitch_loss: 0.0049 - duration_loss: 5.4570e-05 - val_loss: 6.5177e-04 - val_pitch_loss: 5.7719e-04 - val_duration_loss: 6.8333e-05\n",
            "Epoch 72/2000000\n",
            "732/732 [==============================] - 5s 6ms/step - loss: 0.0351 - pitch_loss: 0.0300 - duration_loss: 0.0051 - val_loss: 0.0049 - val_pitch_loss: 0.0057 - val_duration_loss: 1.1658e-04\n",
            "Epoch 73/2000000\n",
            "732/732 [==============================] - 5s 6ms/step - loss: 0.0155 - pitch_loss: 0.0094 - duration_loss: 0.0061 - val_loss: 0.0052 - val_pitch_loss: 0.0061 - val_duration_loss: 1.3032e-04\n",
            "Epoch 74/2000000\n",
            "732/732 [==============================] - 5s 7ms/step - loss: 0.0138 - pitch_loss: 0.0137 - duration_loss: 8.2447e-05 - val_loss: 0.0039 - val_pitch_loss: 0.0047 - val_duration_loss: 1.0139e-04\n",
            "Epoch 75/2000000\n",
            "732/732 [==============================] - 5s 6ms/step - loss: 0.0036 - pitch_loss: 0.0035 - duration_loss: 5.7341e-05 - val_loss: 8.4920e-04 - val_pitch_loss: 8.4266e-04 - val_duration_loss: 6.1763e-05\n",
            "Epoch 76/2000000\n",
            "732/732 [==============================] - 5s 6ms/step - loss: 0.0024 - pitch_loss: 0.0023 - duration_loss: 3.7016e-05 - val_loss: 4.5473e-04 - val_pitch_loss: 4.2389e-04 - val_duration_loss: 4.1409e-05\n",
            "Epoch 77/2000000\n",
            "732/732 [==============================] - 5s 6ms/step - loss: 0.0026 - pitch_loss: 0.0025 - duration_loss: 2.5631e-05 - val_loss: 6.1550e-04 - val_pitch_loss: 5.5329e-04 - val_duration_loss: 5.8594e-05\n",
            "Epoch 78/2000000\n",
            "732/732 [==============================] - 5s 6ms/step - loss: 0.0057 - pitch_loss: 0.0056 - duration_loss: 2.7876e-05 - val_loss: 0.0019 - val_pitch_loss: 0.0018 - val_duration_loss: 4.5804e-05\n",
            "Epoch 79/2000000\n",
            "732/732 [==============================] - 5s 6ms/step - loss: 0.0090 - pitch_loss: 0.0087 - duration_loss: 2.0948e-04 - val_loss: 0.0041 - val_pitch_loss: 0.0037 - val_duration_loss: 3.1888e-04\n",
            "Epoch 80/2000000\n",
            "732/732 [==============================] - 5s 6ms/step - loss: 0.0041 - pitch_loss: 0.0041 - duration_loss: 4.7385e-05 - val_loss: 5.2984e-04 - val_pitch_loss: 4.7618e-04 - val_duration_loss: 4.3334e-05\n",
            "Epoch 81/2000000\n",
            "732/732 [==============================] - 5s 6ms/step - loss: 0.0036 - pitch_loss: 0.0036 - duration_loss: 1.8398e-05 - val_loss: 2.6484e-04 - val_pitch_loss: 2.3706e-04 - val_duration_loss: 2.4938e-05\n",
            "Epoch 82/2000000\n",
            "732/732 [==============================] - 4s 6ms/step - loss: 0.0073 - pitch_loss: 0.0072 - duration_loss: 1.3993e-04 - val_loss: 0.0961 - val_pitch_loss: 0.0937 - val_duration_loss: 3.4749e-04\n",
            "Epoch 83/2000000\n",
            "732/732 [==============================] - 5s 6ms/step - loss: 0.0200 - pitch_loss: 0.0198 - duration_loss: 1.4089e-04 - val_loss: 0.0089 - val_pitch_loss: 0.0082 - val_duration_loss: 3.3740e-04\n",
            "Epoch 84/2000000\n",
            "732/732 [==============================] - 4s 6ms/step - loss: 0.0059 - pitch_loss: 0.0058 - duration_loss: 2.4729e-05 - val_loss: 0.0011 - val_pitch_loss: 0.0010 - val_duration_loss: 5.9164e-05\n",
            "Epoch 85/2000000\n",
            "732/732 [==============================] - 4s 6ms/step - loss: 0.0040 - pitch_loss: 0.0040 - duration_loss: 2.9250e-05 - val_loss: 5.5686e-04 - val_pitch_loss: 5.1818e-04 - val_duration_loss: 2.9868e-05\n",
            "Epoch 86/2000000\n",
            "732/732 [==============================] - 4s 6ms/step - loss: 0.0035 - pitch_loss: 0.0035 - duration_loss: 1.3233e-05 - val_loss: 2.3672e-04 - val_pitch_loss: 2.1489e-04 - val_duration_loss: 1.9433e-05\n"
          ],
          "name": "stdout"
        },
        {
          "output_type": "execute_result",
          "data": {
            "text/plain": [
              "<keras.callbacks.callbacks.History at 0x7f5ea4f9ca90>"
            ]
          },
          "metadata": {
            "tags": []
          },
          "execution_count": 29
        }
      ]
    },
    {
      "cell_type": "code",
      "metadata": {
        "id": "QP4qFY-htzjW"
      },
      "source": [
        "# 어텐션 사용하지 않을 때\n",
        "weights_folder = os.path.join(run_folder, 'weights')"
      ],
      "execution_count": null,
      "outputs": []
    },
    {
      "cell_type": "code",
      "metadata": {
        "id": "vh51mmdlt0zY",
        "colab": {
          "base_uri": "https://localhost:8080/",
          "height": 35
        },
        "outputId": "3d30e6e7-3887-4106-b640-97abef3a979b"
      },
      "source": [
        "weights_folder"
      ],
      "execution_count": null,
      "outputs": [
        {
          "output_type": "execute_result",
          "data": {
            "application/vnd.google.colaboratory.intrinsic": {
              "type": "string"
            },
            "text/plain": [
              "'run/compose/0006_1_cello/weights'"
            ]
          },
          "metadata": {
            "tags": []
          },
          "execution_count": 32
        }
      ]
    },
    {
      "cell_type": "code",
      "metadata": {
        "id": "zNsQPZyuG0Fz",
        "colab": {
          "base_uri": "https://localhost:8080/",
          "height": 238
        },
        "outputId": "058a3228-d379-4a52-f410-63903b07d045"
      },
      "source": [
        "# 어텐션 사용하지 않을 때\n",
        "weights_folder = os.path.join(run_folder, 'weights')\n",
        "\n",
        "checkpoint1 = ModelCheckpoint(\n",
        "    os.path.join(weights_folder, \"weights-improvement-{epoch:02d}-{loss:.4f}-bigger.h5\"),\n",
        "    monitor='loss',\n",
        "    verbose=0,\n",
        "    save_best_only=True,\n",
        "    mode='min'\n",
        ")\n",
        "\n",
        "# monitor : 관찰하고자 하는 항목(val_loss나 val_acc가 주로 사용)\n",
        "# patience : 개선이 없다고 바로 종료하지 않고 개선이 없는 에포크를 얼마나 기다려 줄 것인지 가를 지정함\n",
        "# 만약 10에폭이라고 지정하면 개선이 없는 에포크가 10번째 지속될 경우 학습일 종료\n",
        "checkpoint2 = ModelCheckpoint(\n",
        "    os.path.join(weights_folder, \"weights.h5\"),\n",
        "    monitor='loss',\n",
        "    verbose=0,\n",
        "    save_best_only=True,\n",
        "    mode='min'\n",
        ")\n",
        "\n",
        "early_stopping = EarlyStopping(\n",
        "    monitor='loss'\n",
        "    , restore_best_weights=True\n",
        "    , patience = 10\n",
        ")\n",
        "\n",
        "callbacks_list = [\n",
        "    checkpoint1\n",
        "    , checkpoint2\n",
        "    , early_stopping\n",
        " ]\n",
        "\n",
        "att_model.save_weights(os.path.join(weights_folder, \"weights.h5\"))\n",
        "\n",
        "att_model.fit(network_input, network_output\n",
        "          , epochs=2000000, batch_size=32\n",
        "          , validation_split = 0.2\n",
        "          , callbacks=callbacks_list\n",
        "          , shuffle=True\n",
        "         )"
      ],
      "execution_count": null,
      "outputs": [
        {
          "output_type": "error",
          "ename": "AttributeError",
          "evalue": "ignored",
          "traceback": [
            "\u001b[0;31m---------------------------------------------------------------------------\u001b[0m",
            "\u001b[0;31mAttributeError\u001b[0m                            Traceback (most recent call last)",
            "\u001b[0;32m<ipython-input-34-c747e25ad981>\u001b[0m in \u001b[0;36m<module>\u001b[0;34m()\u001b[0m\n\u001b[1;32m     33\u001b[0m  ]\n\u001b[1;32m     34\u001b[0m \u001b[0;34m\u001b[0m\u001b[0m\n\u001b[0;32m---> 35\u001b[0;31m \u001b[0matt_model\u001b[0m\u001b[0;34m.\u001b[0m\u001b[0msave_weights\u001b[0m\u001b[0;34m(\u001b[0m\u001b[0mos\u001b[0m\u001b[0;34m.\u001b[0m\u001b[0mpath\u001b[0m\u001b[0;34m.\u001b[0m\u001b[0mjoin\u001b[0m\u001b[0;34m(\u001b[0m\u001b[0mweights_folder\u001b[0m\u001b[0;34m,\u001b[0m \u001b[0;34m\"weights.h5\"\u001b[0m\u001b[0;34m)\u001b[0m\u001b[0;34m)\u001b[0m\u001b[0;34m\u001b[0m\u001b[0;34m\u001b[0m\u001b[0m\n\u001b[0m\u001b[1;32m     36\u001b[0m \u001b[0;34m\u001b[0m\u001b[0m\n\u001b[1;32m     37\u001b[0m att_model.fit(network_input, network_output\n",
            "\u001b[0;31mAttributeError\u001b[0m: 'NoneType' object has no attribute 'save_weights'"
          ]
        }
      ]
    },
    {
      "cell_type": "markdown",
      "metadata": {
        "id": "u3_3UpwwWc7O"
      },
      "source": [
        "7.03_어텐션 사용"
      ]
    },
    {
      "cell_type": "code",
      "metadata": {
        "id": "94j_-7xSWcCl"
      },
      "source": [
        "import pickle as pkl\n",
        "import time\n",
        "import os\n",
        "import numpy as np\n",
        "import sys\n",
        "from music21 import instrument, note, stream, chord, duration\n",
        "from models.RNNAttention import create_network, sample_with_temp\n",
        "\n",
        "import matplotlib.pyplot as plt"
      ],
      "execution_count": null,
      "outputs": []
    },
    {
      "cell_type": "code",
      "metadata": {
        "id": "0oH8svUqRgMy"
      },
      "source": [
        "# 예측용 파라미터\n",
        "notes_temp=0.5\n",
        "duration_temp = 0.5\n",
        "max_extra_notes = 50\n",
        "max_seq_len = 32\n",
        "seq_len = 32\n",
        "\n",
        "# notes = ['START', 'D3', 'D3', 'E3', 'D3', 'G3', 'F#3','D3', 'D3', 'E3', 'D3', 'G3', 'F#3','D3', 'D3', 'E3', 'D3', 'G3', 'F#3','D3', 'D3', 'E3', 'D3', 'G3', 'F#3']\n",
        "# durations = [0, 0.75, 0.25, 1, 1, 1, 2, 0.75, 0.25, 1, 1, 1, 2, 0.75, 0.25, 1, 1, 1, 2, 0.75, 0.25, 1, 1, 1, 2]\n",
        "\n",
        "\n",
        "# notes = ['START', 'F#3', 'G#3', 'F#3', 'E3', 'F#3', 'G#3', 'F#3', 'E3', 'F#3', 'G#3', 'F#3', 'E3','F#3', 'G#3', 'F#3', 'E3', 'F#3', 'G#3', 'F#3', 'E3', 'F#3', 'G#3', 'F#3', 'E3']\n",
        "# durations = [0, 0.75, 0.25, 1, 1, 1, 2, 0.75, 0.25, 1, 1, 1, 2, 0.75, 0.25, 1, 1, 1, 2, 0.75, 0.25, 1, 1, 1, 2]\n",
        "\n",
        "\n",
        "notes = ['START']\n",
        "durations = [0]\n",
        "\n",
        "if seq_len is not None:\n",
        "    notes = ['START'] * (seq_len - len(notes)) + notes\n",
        "    durations = [0] * (seq_len - len(durations)) + durations\n",
        "\n",
        "\n",
        "sequence_length = len(notes)"
      ],
      "execution_count": null,
      "outputs": []
    },
    {
      "cell_type": "markdown",
      "metadata": {
        "id": "rBXZyCGPWT8t"
      },
      "source": [
        "악보 시퀀스를 기반으로 신경망에서 악보 생성하기"
      ]
    },
    {
      "cell_type": "code",
      "metadata": {
        "id": "yghqDv1qWSrg"
      },
      "source": [
        "prediction_output = []\n",
        "notes_input_sequence = []\n",
        "durations_input_sequence = []\n",
        "\n",
        "overall_preds = []\n",
        "\n",
        "for n, d in zip(notes,durations):\n",
        "    note_int = note_to_int[n]\n",
        "    duration_int = duration_to_int[d]\n",
        "\n",
        "    notes_input_sequence.append(note_int)\n",
        "    durations_input_sequence.append(duration_int)\n",
        "\n",
        "    prediction_output.append([n, d])\n",
        "\n",
        "    if n != 'START':\n",
        "        midi_note = note.Note(n)\n",
        "\n",
        "        new_note = np.zeros(128)\n",
        "        new_note[midi_note.pitch.midi] = 1\n",
        "        overall_preds.append(new_note)\n",
        "\n",
        "\n",
        "att_matrix = np.zeros(shape = (max_extra_notes+sequence_length, max_extra_notes))\n",
        "\n",
        "for note_index in range(max_extra_notes):\n",
        "\n",
        "    prediction_input = [\n",
        "        np.array([notes_input_sequence])\n",
        "        , np.array([durations_input_sequence])\n",
        "       ]\n",
        "\n",
        "    notes_prediction, durations_prediction = model.predict(prediction_input, verbose=0)\n",
        "    if use_attention:\n",
        "        att_prediction = att_model.predict(prediction_input, verbose=0)[0]\n",
        "        att_matrix[(note_index-len(att_prediction)+sequence_length):(note_index+sequence_length), note_index] = att_prediction\n",
        "\n",
        "    new_note = np.zeros(128)\n",
        "\n",
        "    for idx, n_i in enumerate(notes_prediction[0]):\n",
        "        try:\n",
        "            note_name = int_to_note[idx]\n",
        "            midi_note = note.Note(note_name)\n",
        "            new_note[midi_note.pitch.midi] = n_i\n",
        "\n",
        "        except:\n",
        "            pass\n",
        "\n",
        "    overall_preds.append(new_note)\n",
        "\n",
        "\n",
        "    i1 = sample_with_temp(notes_prediction[0], notes_temp)\n",
        "    i2 = sample_with_temp(durations_prediction[0], duration_temp)\n",
        "\n",
        "\n",
        "    note_result = int_to_note[i1]\n",
        "    duration_result = int_to_duration[i2]\n",
        "\n",
        "    prediction_output.append([note_result, duration_result])\n",
        "\n",
        "    notes_input_sequence.append(i1)\n",
        "    durations_input_sequence.append(i2)\n",
        "\n",
        "    if len(notes_input_sequence) > max_seq_len:\n",
        "        notes_input_sequence = notes_input_sequence[1:]\n",
        "        durations_input_sequence = durations_input_sequence[1:]\n",
        "\n",
        "#     print(note_result)\n",
        "#     print(duration_result)\n",
        "\n",
        "    if note_result == 'START':\n",
        "        break\n",
        "\n",
        "overall_preds = np.transpose(np.array(overall_preds))\n",
        "print('Generated sequence of {} notes'.format(len(prediction_output)))"
      ],
      "execution_count": null,
      "outputs": []
    },
    {
      "cell_type": "code",
      "metadata": {
        "id": "H9fJJeDianpU"
      },
      "source": [
        "prediction_output"
      ],
      "execution_count": null,
      "outputs": []
    },
    {
      "cell_type": "code",
      "metadata": {
        "id": "GNJwhrkDWXQ8"
      },
      "source": [
        "fig, ax = plt.subplots(figsize=(15,15))\n",
        "ax.set_yticks([int(j) for j in range(35,70)])\n",
        "\n",
        "plt.imshow(overall_preds[35:70,:], origin=\"lower\", cmap='coolwarm', vmin = -0.5, vmax = 0.5, extent=[0, max_extra_notes, 35,70]\n",
        "\n",
        "          )"
      ],
      "execution_count": null,
      "outputs": []
    },
    {
      "cell_type": "code",
      "metadata": {
        "id": "nNwBLm1Qjkd1"
      },
      "source": [
        "predict = converter.parse('run/compose/0006_cello/output/output-20200717-021023.mid')\n",
        "predict.show()"
      ],
      "execution_count": null,
      "outputs": []
    },
    {
      "cell_type": "markdown",
      "metadata": {
        "id": "LtZx8jamWktK"
      },
      "source": [
        "예측 출력을 악보로 변환하고 악보에서 미디 파일 만들기"
      ]
    },
    {
      "cell_type": "code",
      "metadata": {
        "id": "7hX-pKlwWj1r"
      },
      "source": [
        "output_folder = os.path.join(run_folder, 'output')\n",
        "\n",
        "midi_stream = stream.Stream()\n",
        "\n",
        "# 모델이 생성한 값을 기반으로 악보와 화음 객체 만들기\n",
        "for pattern in prediction_output:\n",
        "    note_pattern, duration_pattern = pattern\n",
        "    # 패턴이 화음일 경우\n",
        "    if ('.' in note_pattern):\n",
        "        notes_in_chord = note_pattern.split('.')\n",
        "        chord_notes = []\n",
        "        for current_note in notes_in_chord:\n",
        "            new_note = note.Note(current_note)\n",
        "            new_note.duration = duration.Duration(duration_pattern)\n",
        "            new_note.storedInstrument = instrument.Violoncello()\n",
        "            chord_notes.append(new_note)\n",
        "        new_chord = chord.Chord(chord_notes)\n",
        "        midi_stream.append(new_chord)\n",
        "    elif note_pattern == 'rest':\n",
        "    # 패턴이 쉼표일 경우\n",
        "        new_note = note.Rest()\n",
        "        new_note.duration = duration.Duration(duration_pattern)\n",
        "        new_note.storedInstrument = instrument.Violoncello()\n",
        "        midi_stream.append(new_note)\n",
        "    elif note_pattern != 'START':\n",
        "    # 패턴이 하나의 음표일 경우\n",
        "        new_note = note.Note(note_pattern)\n",
        "        new_note.duration = duration.Duration(duration_pattern)\n",
        "        new_note.storedInstrument = instrument.Violoncello()\n",
        "        midi_stream.append(new_note)\n",
        "\n",
        "\n",
        "\n",
        "midi_stream = midi_stream.chordify()\n",
        "timestr = time.strftime(\"%Y%m%d-%H%M%S\")\n",
        "midi_stream.write('midi', fp=os.path.join(output_folder, 'output-' + timestr + '.mid'))"
      ],
      "execution_count": null,
      "outputs": []
    },
    {
      "cell_type": "code",
      "metadata": {
        "id": "dK1uqH9BWpLQ"
      },
      "source": [
        "## 어텐션 그래프\n",
        "if use_attention:\n",
        "    fig, ax = plt.subplots(figsize=(20,20))\n",
        "\n",
        "    im = ax.imshow(att_matrix[(seq_len-2):,], cmap='coolwarm', interpolation='nearest')\n",
        "\n",
        "\n",
        "\n",
        "\n",
        "    # Minor ticks\n",
        "    ax.set_xticks(np.arange(-.5, len(prediction_output)- seq_len, 1), minor=True);\n",
        "    ax.set_yticks(np.arange(-.5, len(prediction_output)- seq_len, 1), minor=True);\n",
        "\n",
        "    # Gridlines based on minor ticks\n",
        "    ax.grid(which='minor', color='black', linestyle='-', linewidth=1)\n",
        "\n",
        "\n",
        "\n",
        "\n",
        "    # We want to show all ticks...\n",
        "    ax.set_xticks(np.arange(len(prediction_output) - seq_len))\n",
        "    ax.set_yticks(np.arange(len(prediction_output)- seq_len+2))\n",
        "    # ... and label them with the respective list entries\n",
        "    ax.set_xticklabels([n[0] for n in prediction_output[(seq_len):]])\n",
        "    ax.set_yticklabels([n[0] for n in prediction_output[(seq_len - 2):]])\n",
        "\n",
        "    # ax.grid(color='black', linestyle='-', linewidth=1)\n",
        "\n",
        "    ax.xaxis.tick_top()\n",
        "\n",
        "\n",
        "\n",
        "    plt.setp(ax.get_xticklabels(), rotation=90, ha=\"left\", va = \"center\",\n",
        "             rotation_mode=\"anchor\")\n",
        "\n",
        "    plt.show()"
      ],
      "execution_count": null,
      "outputs": []
    },
    {
      "cell_type": "code",
      "metadata": {
        "id": "EYsB6LnKWqZh"
      },
      "source": [],
      "execution_count": null,
      "outputs": []
    }
  ]
}